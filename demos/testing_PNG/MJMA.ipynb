{
 "cells": [
  {
   "cell_type": "markdown",
   "metadata": {},
   "source": [
    "# Sistemas Multimedia\n",
    "\n",
    "## MDWT"
   ]
  },
  {
   "cell_type": "markdown",
   "metadata": {},
   "source": [
    " #### INTRO\n",
    " * DWT es una transformación digital\n",
    " * Matemáticamente: Representa una señal en función de otras trasladadas y dilatadas\n",
    " * En imágenes: Se obtiene una representación en base a diferentes señales referentes a las subbandas\n",
    " * MDWT = Motion DWT = Aplicar DWT a cada imagen que forma el vídeo"
   ]
  },
  {
   "cell_type": "markdown",
   "metadata": {},
   "source": [
    "##### Aplicar MDWT\n",
    "- Actualizar las imágenes del vídeo a utilizar"
   ]
  },
  {
   "cell_type": "code",
   "execution_count": 32,
   "metadata": {},
   "outputs": [],
   "source": [
    "!rm /tmp/*.png "
   ]
  },
  {
   "cell_type": "code",
   "execution_count": 33,
   "metadata": {},
   "outputs": [],
   "source": [
    "!cd .. && cd .. && cp sequences/480/*.png /tmp "
   ]
  },
  {
   "cell_type": "markdown",
   "metadata": {},
   "source": [
    "- Para que el nombre de las imágenes coincida se ha creado un script."
   ]
  },
  {
   "cell_type": "code",
   "execution_count": 34,
   "metadata": {},
   "outputs": [
    {
     "name": "stdout",
     "output_type": "stream",
     "text": [
      "import os\r\n",
      "import sys\r\n",
      "\r\n",
      "def RenameFiles(path = \"/tmp/\"):\r\n",
      "    contador = 0\r\n",
      "    for file in os.listdir(path):\r\n",
      "        if file.endswith(\".png\"):\r\n",
      "            oldName = os.path.join(path,file)\r\n",
      "            numero = int(file[-8:][:-4])\r\n",
      "            #anterior = numero - 1\r\n",
      "            newName = os.path.join(path,\"{:03d}\".format(contador)+\".png\")\r\n",
      "            os.rename(oldName,newName)\r\n",
      "            if contador == 999:\r\n",
      "                break\r\n",
      "            contador = contador + 1\r\n",
      "\r\n",
      "if __name__ ==\"__main__\":\r\n",
      "    if len(sys.argv) < 2:\r\n",
      "        RenameFiles()\r\n",
      "    else:\r\n",
      "        RenameFiles(sys.argv[1])\r\n"
     ]
    }
   ],
   "source": [
    "!cd .. && cd .. && cat src/cambiar.py"
   ]
  },
  {
   "cell_type": "code",
   "execution_count": 35,
   "metadata": {},
   "outputs": [],
   "source": [
    "!cd .. && cd .. && cd src/ && python3 cambiar.py"
   ]
  },
  {
   "cell_type": "markdown",
   "metadata": {},
   "source": [
    "* Ejecución MDWT para las primeras 50 imágenes y MCDWT con T = 1"
   ]
  },
  {
   "cell_type": "code",
   "execution_count": 36,
   "metadata": {},
   "outputs": [],
   "source": [
    "!cd .. && cd .. && cd src/ && python3 -O MDWT.py -p /tmp/ -N 50"
   ]
  },
  {
   "cell_type": "code",
   "execution_count": 37,
   "metadata": {},
   "outputs": [],
   "source": [
    "!cd .. && cd .. && cd src/ && python3 -O MCDWT.py -P 1 -p /tmp/ -T 1 -N 49\n"
   ]
  },
  {
   "cell_type": "markdown",
   "metadata": {},
   "source": [
    "* Ejecución de script para comprobar el ratio de compresión sumando las imágenes anteriores y las subbandas generadas"
   ]
  },
  {
   "cell_type": "code",
   "execution_count": 38,
   "metadata": {},
   "outputs": [
    {
     "name": "stdout",
     "output_type": "stream",
     "text": [
      "Original 8198337.0\r\n",
      "Nuevo 20393737.0\r\n",
      "Ratio de compresion 0.40200\r\n"
     ]
    }
   ],
   "source": [
    "!cd .. && cd .. && cd src/ && python3 suma.py 50"
   ]
  },
  {
   "cell_type": "markdown",
   "metadata": {},
   "source": [
    "* Script para sumar el tamaño de las imágenes."
   ]
  },
  {
   "cell_type": "code",
   "execution_count": 39,
   "metadata": {},
   "outputs": [
    {
     "name": "stdout",
     "output_type": "stream",
     "text": [
      "import os\r\n",
      "import sys\r\n",
      "\r\n",
      "def AddSizes(path = \"/tmp/\", N = 5):\r\n",
      "        tamanoTotal = 0.0\r\n",
      "        tamanoTotalNuevo = 0.0 \r\n",
      "        for i in range(N):            \r\n",
      "            path_archivo_normal = os.path.join(path,\"{:03d}\".format(i)+\".png\")\r\n",
      "            path_archivo_reducido = os.path.join(path,\"LL{:03d}\".format(i)+\".png\")\r\n",
      "            tamanoTotalNuevo += os.stat(path_archivo_reducido).st_size\r\n",
      "            path_archivo_reducido = os.path.join(path,\"LH{:03d}\".format(i)+\".png\")\r\n",
      "            tamanoTotalNuevo += os.stat(path_archivo_reducido).st_size\r\n",
      "            path_archivo_reducido = os.path.join(path,\"HL{:03d}\".format(i)+\".png\")\r\n",
      "            tamanoTotalNuevo += os.stat(path_archivo_reducido).st_size\r\n",
      "            path_archivo_reducido = os.path.join(path,\"HH{:03d}\".format(i)+\".png\")\r\n",
      "            tamanoTotal += os.stat(path_archivo_normal).st_size\r\n",
      "            tamanoTotalNuevo += os.stat(path_archivo_reducido).st_size\r\n",
      "        print(\"Original \" + str(tamanoTotal))\r\n",
      "        print(\"Nuevo \" + str(tamanoTotalNuevo))\r\n",
      "        print(\"Ratio de compresion \" + \"{0:.5f}\".format(tamanoTotal/tamanoTotalNuevo))\r\n",
      "\r\n",
      "if __name__ ==\"__main__\":\r\n",
      "        if len(sys.argv) < 2:\r\n",
      "             AddSizes()\r\n",
      "        elif len(sys.argv) == 2:\r\n",
      "            AddSizes(N=int(sys.argv[1]))            \r\n",
      "        else:\r\n",
      "            AddSizes(sys.argv[1],int(sys.argv[2]))\r\n"
     ]
    }
   ],
   "source": [
    "!cd .. && cd .. && cat src/suma.py"
   ]
  },
  {
   "cell_type": "markdown",
   "metadata": {},
   "source": [
    "* Iniciar de nuevo el proceso para ejecutar MDCWT con T = 2"
   ]
  },
  {
   "cell_type": "code",
   "execution_count": 40,
   "metadata": {},
   "outputs": [],
   "source": [
    "!rm -f /tmp/*.png \n",
    "!cd .. && cd .. && cp sequences/480/*.png /tmp "
   ]
  },
  {
   "cell_type": "code",
   "execution_count": 41,
   "metadata": {},
   "outputs": [],
   "source": [
    "!cd .. && cd .. && cd src/ && python3 cambiar.py"
   ]
  },
  {
   "cell_type": "code",
   "execution_count": 42,
   "metadata": {},
   "outputs": [],
   "source": [
    "!cd .. && cd .. && cd src/ && python3 -O MDWT.py -p /tmp/ -N 50"
   ]
  },
  {
   "cell_type": "code",
   "execution_count": 43,
   "metadata": {},
   "outputs": [],
   "source": [
    "!cd .. && cd .. && cd src/ && python3 -O MCDWT.py -P 1 -p /tmp/ -T 2 -N 49"
   ]
  },
  {
   "cell_type": "markdown",
   "metadata": {},
   "source": [
    "* Al modificar el parámetro T, el ratio de compresión empeora hasta 0.37\n",
    "* Tamaño original es -lógicamente- el mismo pero las subbandas generadas tienen mayor peso"
   ]
  },
  {
   "cell_type": "code",
   "execution_count": 44,
   "metadata": {},
   "outputs": [
    {
     "name": "stdout",
     "output_type": "stream",
     "text": [
      "Original 8198337.0\r\n",
      "Nuevo 22093523.0\r\n",
      "Ratio de compresion 0.37107\r\n"
     ]
    }
   ],
   "source": [
    "!cd .. && cd .. && cd src/ && python3 suma.py 50"
   ]
  },
  {
   "cell_type": "markdown",
   "metadata": {},
   "source": [
    "* Nuevo inicio para T = 3"
   ]
  },
  {
   "cell_type": "code",
   "execution_count": 45,
   "metadata": {},
   "outputs": [],
   "source": [
    "!rm -f /tmp/*.png \n",
    "!cd .. && cd .. && cp sequences/480/*.png /tmp "
   ]
  },
  {
   "cell_type": "code",
   "execution_count": 46,
   "metadata": {},
   "outputs": [],
   "source": [
    "!cd .. && cd .. && cd src/ && python3 cambiar.py"
   ]
  },
  {
   "cell_type": "code",
   "execution_count": 47,
   "metadata": {},
   "outputs": [],
   "source": [
    "!cd .. && cd .. && cd src/ && python3 -O MDWT.py -p /tmp/ -N 50"
   ]
  },
  {
   "cell_type": "code",
   "execution_count": 48,
   "metadata": {},
   "outputs": [],
   "source": [
    "!cd .. && cd .. && cd src/ && python3 -O MCDWT.py -P 1 -p /tmp/ -T 3 -N 49"
   ]
  },
  {
   "cell_type": "code",
   "execution_count": 49,
   "metadata": {},
   "outputs": [
    {
     "name": "stdout",
     "output_type": "stream",
     "text": [
      "Original 8198337.0\r\n",
      "Nuevo 22965459.0\r\n",
      "Ratio de compresion 0.35699\r\n"
     ]
    }
   ],
   "source": [
    "!cd .. && cd .. && cd src/ && python3 suma.py 50"
   ]
  },
  {
   "cell_type": "markdown",
   "metadata": {},
   "source": [
    "* Ejecución para T = 4"
   ]
  },
  {
   "cell_type": "code",
   "execution_count": 50,
   "metadata": {},
   "outputs": [],
   "source": [
    "!rm /tmp/*.png \n",
    "!cd .. && cd .. && cp sequences/480/*.png /tmp "
   ]
  },
  {
   "cell_type": "code",
   "execution_count": 51,
   "metadata": {},
   "outputs": [],
   "source": [
    "!cd .. && cd .. && cd src/ && python3 cambiar.py"
   ]
  },
  {
   "cell_type": "code",
   "execution_count": 52,
   "metadata": {},
   "outputs": [],
   "source": [
    "!cd .. && cd .. && cd src/ && python3 -O MDWT.py -p /tmp/ -N 50"
   ]
  },
  {
   "cell_type": "code",
   "execution_count": 53,
   "metadata": {},
   "outputs": [],
   "source": [
    "!cd .. && cd .. && cd src/ && python3 -O MCDWT.py -P 1 -p /tmp/ -T 4 -N 49"
   ]
  },
  {
   "cell_type": "code",
   "execution_count": 54,
   "metadata": {},
   "outputs": [
    {
     "name": "stdout",
     "output_type": "stream",
     "text": [
      "Original 8198337.0\r\n",
      "Nuevo 23330894.0\r\n",
      "Ratio de compresion 0.35139\r\n"
     ]
    }
   ],
   "source": [
    "!cd .. && cd .. && cd src/ && python3 suma.py 50"
   ]
  }
 ],
 "metadata": {
  "kernelspec": {
   "display_name": "Python 3",
   "language": "python",
   "name": "python3"
  },
  "language_info": {
   "codemirror_mode": {
    "name": "ipython",
    "version": 3
   },
   "file_extension": ".py",
   "mimetype": "text/x-python",
   "name": "python",
   "nbconvert_exporter": "python",
   "pygments_lexer": "ipython3",
   "version": "3.6.9"
  }
 },
 "nbformat": 4,
 "nbformat_minor": 4
}
