{
 "cells": [
  {
   "cell_type": "code",
   "execution_count": 7,
   "metadata": {},
   "outputs": [
    {
     "data": {
      "application/vnd.jupyter.widget-view+json": {
       "model_id": "43279745e5b94389bc638b628f63044b",
       "version_major": 2,
       "version_minor": 0
      },
      "text/plain": [
       "Tree(nodes=(Node(name='q_step', nodes=(Node(name='original'), Node(name='mcdwt'), Node(name='deadzone', nodes=…"
      ]
     },
     "metadata": {},
     "output_type": "display_data"
    }
   ],
   "source": [
    "from ipytree import Tree, Node\n",
    "\n",
    "tree = Tree(stripes=True)\n",
    "q_step = Node('q_step')\n",
    "original = Node('original')\n",
    "mcdwt = Node('mcdwt')\n",
    "deadzone = Node('deadzone')\n",
    "midrise = Node('midrise')\n",
    "midthread = Node('midthread')\n",
    " \n",
    "deadzone.nodes = [Node('inversa')]\n",
    "midrise.nodes = [Node('inversa')]\n",
    "midthread.nodes = [Node('inversa')]\n",
    " \n",
    "q_step.nodes = [original, mcdwt, deadzone, midrise, midthread]\n",
    "tree.nodes = [q_step]\n",
    "tree"
   ]
  },
  {
   "cell_type": "code",
   "execution_count": 8,
   "metadata": {},
   "outputs": [],
   "source": [
    "!sudo rm -r /tmp/*"
   ]
  },
  {
   "cell_type": "code",
   "execution_count": 9,
   "metadata": {},
   "outputs": [
    {
     "name": "stdout",
     "output_type": "stream",
     "text": [
      "mcdwt  original\n",
      "cp: -r not specified; omitting directory '/tmp/8/deadzone/inversas'\n",
      "cp: -r not specified; omitting directory '/tmp/8/midrise/inversas'\n",
      "cp: -r not specified; omitting directory '/tmp/8/midthreat/inversas'\n",
      "mcdwt  original\n",
      "cp: -r not specified; omitting directory '/tmp/16/deadzone/inversas'\n",
      "cp: -r not specified; omitting directory '/tmp/16/midrise/inversas'\n",
      "cp: -r not specified; omitting directory '/tmp/16/midthreat/inversas'\n",
      "mcdwt  original\n",
      "cp: -r not specified; omitting directory '/tmp/20/deadzone/inversas'\n",
      "cp: -r not specified; omitting directory '/tmp/20/midrise/inversas'\n",
      "cp: -r not specified; omitting directory '/tmp/20/midthreat/inversas'\n",
      "mcdwt  original\n",
      "cp: -r not specified; omitting directory '/tmp/55/deadzone/inversas'\n",
      "cp: -r not specified; omitting directory '/tmp/55/midrise/inversas'\n",
      "cp: -r not specified; omitting directory '/tmp/55/midthreat/inversas'\n",
      "mcdwt  original\n",
      "cp: -r not specified; omitting directory '/tmp/60/deadzone/inversas'\n",
      "cp: -r not specified; omitting directory '/tmp/60/midrise/inversas'\n",
      "cp: -r not specified; omitting directory '/tmp/60/midthreat/inversas'\n"
     ]
    }
   ],
   "source": [
    "q_step=32  \n",
    "predictor=2  \n",
    "valores_q_step = [8,16,20,55,60] \n",
    "tipos_cuantificacion = [\"deadzone\",\"midrise\",\"midthreat\"]\n",
    "imagenes = 5\n",
    "\n",
    "for q_step in valores_q_step:\n",
    "    !mkdir /tmp/{q_step} && mkdir /tmp/{q_step}/original  &&  cp sequences/stockholm/* /tmp/{q_step}/original/\n",
    "    #!mkdir /tmp/{q_step} && mkdir /tmp/{q_step}/original  &&  cp sequences/galeon/procesado/* /tmp/{q_step}/original/\n",
    "    !mkdir /tmp/{q_step}/mcdwt  && cp /tmp/{q_step}/original/* /tmp/{q_step}/mcdwt/  \n",
    "    !cd src/ && python3 -O MDWT.py -p /tmp/{q_step}/mcdwt/\n",
    "    !ls /tmp/{q_step}\n",
    "    !cd src/ && python3 -O MCDWT.py -P {predictor} -p /tmp/{q_step}/mcdwt/ \n",
    "    for tipo in tipos_cuantificacion:\n",
    "        !mkdir /tmp/{q_step}/{tipo}\n",
    "        for imagen in range(0,imagenes): \n",
    "            ii =\"{:03d}\".format(imagen)\n",
    "            !python3 tools/quantize.py -t {tipo} -i /tmp/{q_step}/mcdwt/LH{ii}.png -o /tmp/{q_step}/{tipo}/LH{ii}.png -q {q_step}  \n",
    "            !python3 tools/quantize.py -t {tipo} -i /tmp/{q_step}/mcdwt/HL{ii}.png -o /tmp/{q_step}/{tipo}/HL{ii}.png -q {q_step}   \n",
    "            !python3 tools/quantize.py -t {tipo} -i /tmp/{q_step}/mcdwt/HH{ii}.png -o /tmp/{q_step}/{tipo}/HH{ii}.png -q {q_step} \n",
    "            !python3 tools/quantize.py -t {tipo} -i /tmp/{q_step}/mcdwt/LL{ii}.png -o /tmp/{q_step}/{tipo}/LL{ii}.png -q {q_step} \n",
    "        !mkdir /tmp/{q_step}/{tipo}/inversas  &&  cp /tmp/{q_step}/{tipo}/* /tmp/{q_step}/{tipo}/inversas  \n",
    "        !cd src/ && python3 -O MCDWT.py -P {predictor} -p /tmp/{q_step}/{tipo}/inversas/ -b  \n",
    "        !cd src/ && python3 -O MDWT.py -p /tmp/{q_step}/{tipo}/inversas/ -b  "
   ]
  },
  {
   "cell_type": "code",
   "execution_count": 10,
   "metadata": {},
   "outputs": [
    {
     "name": "stdout",
     "output_type": "stream",
     "text": [
      "import os\r",
      "\r\n",
      "import sys\r",
      "\r\n",
      "import math\r",
      "\r\n",
      "try:\r",
      "\r\n",
      "    import cv2\r",
      "\r\n",
      "except:\r",
      "\r\n",
      "    os.system(\"pip3 install opencv-python --user\")\r",
      "\r\n",
      "try:\r",
      "\r\n",
      "    import numpy as np\r",
      "\r\n",
      "except:\r",
      "\r\n",
      "    os.system(\"pip3 install numpy --user\")\r",
      "\r\n",
      "\r",
      "\r\n",
      "import argparse\r",
      "\r\n",
      "\r",
      "\r\n",
      "try:\r",
      "\r\n",
      "    import skimage.metrics\r",
      "\r\n",
      "except:\r",
      "\r\n",
      "    os.system(\"pip3 install scikit-image --user\")\r",
      "\r\n",
      "\r",
      "\r\n",
      "try:\r",
      "\r\n",
      "    import scipy\r",
      "\r\n",
      "    from scipy import stats\r",
      "\r\n",
      "except:\r",
      "\r\n",
      "    os.system(\"pip3 install scipy --user\")\r",
      "\r\n",
      "\r",
      "\r\n",
      "class Sumando():\r",
      "\r\n",
      "    def __init__(self):\r",
      "\r\n",
      "        print(\"\")       \r",
      "\r\n",
      "    def calcularMSE(self,original,cuantificada):\r",
      "\r\n",
      "        x = cv2.imread(original, -1)\r",
      "\r\n",
      "        y = cv2.imread(cuantificada, -1)\r",
      "\r\n",
      "        MSE = skimage.metrics.mean_squared_error(x, y)\r",
      "\r\n",
      "        return MSE\r",
      "\r\n",
      "    def GetPesos(self,cuantificador, q):\r",
      "\r\n",
      "        path = \"/tmp/\"+str(q)+\"/\"+str(cuantificador) + \"/\"\r",
      "\r\n",
      "        tamanoTotalNuevo = 0.0\r",
      "\r\n",
      "        for i in range(5):\r",
      "\r\n",
      "            path_archivo_reducido = os.path.join(path,\"LL{:03d}\".format(i)+\".png\")\r",
      "\r\n",
      "            tamanoTotalNuevo += os.stat(path_archivo_reducido).st_size\r",
      "\r\n",
      "            path_archivo_reducido = os.path.join(path,\"LH{:03d}\".format(i)+\".png\")\r",
      "\r\n",
      "            tamanoTotalNuevo += os.stat(path_archivo_reducido).st_size\r",
      "\r\n",
      "            path_archivo_reducido = os.path.join(path,\"HL{:03d}\".format(i)+\".png\")\r",
      "\r\n",
      "            tamanoTotalNuevo += os.stat(path_archivo_reducido).st_size\r",
      "\r\n",
      "            path_archivo_reducido = os.path.join(path,\"HH{:03d}\".format(i)+\".png\")\r",
      "\r\n",
      "            tamanoTotalNuevo += os.stat(path_archivo_reducido).st_size\r",
      "\r\n",
      "        return tamanoTotalNuevo\r",
      "\r\n",
      "    def GetPesosSubbandas(self,cuantificador, q,banda,imagen):\r",
      "\r\n",
      "        path = \"/tmp/\"+str(q)+\"/\"+cuantificador+\"/\"+banda+\"/\"\t\r",
      "\r\n",
      "        tamanoTotalNuevo = 0.0\r",
      "\r\n",
      "        for i in range(5):\r",
      "\r\n",
      "            path_archivo_reducido = os.path.join(path,\"LL{:03d}\".format(imagen)+\".png\")\r",
      "\r\n",
      "            tamanoTotalNuevo += os.stat(path_archivo_reducido).st_size\r",
      "\r\n",
      "            path_archivo_reducido = os.path.join(path,\"LH{:03d}\".format(imagen)+\".png\")\r",
      "\r\n",
      "            tamanoTotalNuevo += os.stat(path_archivo_reducido).st_size\r",
      "\r\n",
      "            path_archivo_reducido = os.path.join(path,\"HL{:03d}\".format(imagen)+\".png\")\r",
      "\r\n",
      "            tamanoTotalNuevo += os.stat(path_archivo_reducido).st_size\r",
      "\r\n",
      "            path_archivo_reducido = os.path.join(path,\"HH{:03d}\".format(imagen)+\".png\")\r",
      "\r\n",
      "            tamanoTotalNuevo += os.stat(path_archivo_reducido).st_size\r",
      "\r\n",
      "        return tamanoTotalNuevo\r",
      "\r\n",
      "    def GetMSE(self,cuantificador,imagen,q):\r",
      "\r\n",
      "        cuantizada = \"/tmp/\"+str(q)+\"/\"+cuantificador+\"/inversas/\"+\"{:03d}\".format(imagen)+\".png\"\r",
      "\r\n",
      "        original = \"/tmp/\"+str(q)+\"/original/\"+\"{:03d}\".format(imagen)+\".png\"\r",
      "\r\n",
      "        x = cv2.imread(original, -1)\r",
      "\r\n",
      "        y = cv2.imread(cuantizada, -1)\r",
      "\r\n",
      "        MSE = skimage.metrics.mean_squared_error(x, y)\r",
      "\r\n",
      "        return MSE\r",
      "\r\n",
      "    def GetMSESubbanda(self,cuantificador,imagen,q,banda):\r",
      "\r\n",
      "        cuantizada = \"/tmp/\"+str(q)+\"/\"+cuantificador+\"/\"+banda+\"/inversas/\"+\"{:03d}\".format(imagen)+\".png\"\r",
      "\r\n",
      "        original = \"/tmp/\"+str(q)+\"/original/\"+\"{:03d}\".format(imagen)+\".png\"\r",
      "\r\n",
      "        x = cv2.imread(original, -1)\r",
      "\r\n",
      "        y = cv2.imread(cuantizada, -1)\r",
      "\r\n",
      "        error = np.sum((x - y) ** 2)\r",
      "\r\n",
      "        error /= float(A.shape[0] * A.shape[1])\r",
      "\r\n",
      "        #MSE = skimage.metrics.mean_squared_error(x, y)\r",
      "\r\n",
      "        return MSE\r",
      "\r\n",
      "    def AddSizes(path = \"/tmp/\", N = 5):\r",
      "\r\n",
      "        tamanoTotal = 0.0\r",
      "\r\n",
      "        tamanoTotalNuevo = 0.0 \r",
      "\r\n",
      "        for i in range(N):            \r",
      "\r\n",
      "            path_archivo_normal = os.path.join(path,\"{:03d}\".format(i)+\".png\")\r",
      "\r\n",
      "            path_archivo_reducido = os.path.join(path,\"LL{:03d}\".format(i)+\".png\")\r",
      "\r\n",
      "            tamanoTotalNuevo += os.stat(path_archivo_reducido).st_size\r",
      "\r\n",
      "            path_archivo_reducido = os.path.join(path,\"LH{:03d}\".format(i)+\".png\")\r",
      "\r\n",
      "            tamanoTotalNuevo += os.stat(path_archivo_reducido).st_size\r",
      "\r\n",
      "            path_archivo_reducido = os.path.join(path,\"HL{:03d}\".format(i)+\".png\")\r",
      "\r\n",
      "            tamanoTotalNuevo += os.stat(path_archivo_reducido).st_size\r",
      "\r\n",
      "            path_archivo_reducido = os.path.join(path,\"HH{:03d}\".format(i)+\".png\")\r",
      "\r\n",
      "            tamanoTotal += os.stat(path_archivo_normal).st_size\r",
      "\r\n",
      "            tamanoTotalNuevo += os.stat(path_archivo_reducido).st_size\r",
      "\r\n",
      "        \"\"\"\r",
      "\r\n",
      "    if __name__ ==\"__main__\":\r",
      "\r\n",
      "            if len(sys.argv) < 2:\r",
      "\r\n",
      "                AddSizes()\r",
      "\r\n",
      "            elif len(sys.argv) == 2:\r",
      "\r\n",
      "                AddSizes(N=int(sys.argv[1]))            \r",
      "\r\n",
      "            else:\r",
      "\r\n",
      "                AddSizes(sys.argv[1],int(sys.argv[2]))\r",
      "\r\n",
      "                \"\"\"\r",
      "\r\n"
     ]
    }
   ],
   "source": [
    "!cat suma.py"
   ]
  },
  {
   "cell_type": "code",
   "execution_count": 11,
   "metadata": {
    "scrolled": true
   },
   "outputs": [
    {
     "name": "stdout",
     "output_type": "stream",
     "text": [
      "\n",
      "{'deadzone': [[4614722.0, 18.08641438802083], [2448407.0, 42.71575249565972], [2198044.0, 57.317884860568576], [1297000.0, 248.51879265679253], [1213737.0, 278.4328746880425]], 'midrise': [[8817604.0, 16.13230489095052], [7634739.0, 76.02157891167535], [7470063.0, 126.0644200981988], [6667192.0, 1191.5396264648439], [6603836.0, 1437.6368425157336]], 'midthreat': [[6512902.0, 9.198691270616319], [3632905.0, 17.85880350748698], [2984517.0, 21.616653442382812], [1407553.0, 57.912724745008674], [1344266.0, 65.88114162868924]]}\n"
     ]
    },
    {
     "data": {
      "image/png": "[encoded data removed]",
      "text/plain": [
       "<Figure size 432x288 with 1 Axes>"
      ]
     },
     "metadata": {
      "needs_background": "light"
     },
     "output_type": "display_data"
    }
   ],
   "source": [
    "from suma import Sumando\n",
    "try:\n",
    "    import matplotlib.pyplot as plt\n",
    "except:\n",
    "    os.system(\"pip3 install matplotlib --user\")\n",
    "    import matplotlib.pyplot as plt\n",
    "\n",
    "imagenes = 5\n",
    "valores_q_step = [8,16,20,55,60] \n",
    "tipos_cuantificacion = [\"deadzone\",\"midrise\",\"midthreat\"]\n",
    "resultado_total = {\"deadzone\" : [] ,\"midrise\" : [],\"midthreat\":[]}\n",
    "s = Sumando()\n",
    "for q_step in valores_q_step: \n",
    "    diccionario = {}\n",
    "    for tipo in tipos_cuantificacion:        \n",
    "        pesos = s.GetPesos(str(tipo),q_step)\n",
    "        MSE_almacenado = 0.0\n",
    "        for imagen in range(0,imagenes):\n",
    "            MSE_almacenado+= s.GetMSE(tipo,imagen,q_step)\n",
    "        resultado_total[tipo].append([pesos,MSE_almacenado/imagenes]) \n",
    "\n",
    "print(resultado_total)\n",
    "plt.figure()\n",
    "diccionario = resultado_total\n",
    "for tipo in diccionario:\n",
    "    plot = plt.plot([i[0] for i in diccionario[tipo]],[i[1] for i in diccionario[tipo]],label=tipo)\n",
    "    #plt.legend(bbox_to_anchor=(1.05, 1), loc='upper', borderaxespad=0.)\n",
    "plt.ylabel('Error')\n",
    "plt.xlabel('Peso')\n",
    "#plt.title(tipo)\n",
    "plt.show()"
   ]
  },
  {
   "cell_type": "code",
   "execution_count": 13,
   "metadata": {},
   "outputs": [
    {
     "name": "stdout",
     "output_type": "stream",
     "text": [
      "\n",
      "{'deadzone': [[4614722.0, 18.08641438802083], [2448407.0, 42.71575249565972], [2198044.0, 57.317884860568576], [1297000.0, 248.51879265679253], [1213737.0, 278.4328746880425]], 'midrise': [[8817604.0, 16.13230489095052], [7634739.0, 76.02157891167535], [7470063.0, 126.0644200981988], [6667192.0, 1191.5396264648439], [6603836.0, 1437.6368425157336]], 'midthreat': [[6512902.0, 9.198691270616319], [3632905.0, 17.85880350748698], [2984517.0, 21.616653442382812], [1407553.0, 57.912724745008674], [1344266.0, 65.88114162868924]]}\n"
     ]
    },
    {
     "data": {
      "image/png": "[encoded data removed]",
      "text/plain": [
       "<Figure size 432x288 with 1 Axes>"
      ]
     },
     "metadata": {
      "needs_background": "light"
     },
     "output_type": "display_data"
    },
    {
     "data": {
      "image/png": "[encoded data removed]",
      "text/plain": [
       "<Figure size 432x288 with 1 Axes>"
      ]
     },
     "metadata": {
      "needs_background": "light"
     },
     "output_type": "display_data"
    },
    {
     "data": {
      "image/png": "[encoded data removed]",
      "text/plain": [
       "<Figure size 432x288 with 1 Axes>"
      ]
     },
     "metadata": {
      "needs_background": "light"
     },
     "output_type": "display_data"
    }
   ],
   "source": [
    "from suma import Sumando\n",
    "try:\n",
    "    import matplotlib.pyplot as plt\n",
    "except:\n",
    "    os.system(\"pip3 install matplotlib --user\")\n",
    "    import matplotlib.pyplot as plt\n",
    "\n",
    "imagenes = 5\n",
    "valores_q_step = [8,16,20,55,60] \n",
    "tipos_cuantificacion = [\"deadzone\",\"midrise\",\"midthreat\"]\n",
    "resultado_total = {\"deadzone\" : [] ,\"midrise\" : [],\"midthreat\":[]}\n",
    "s = Sumando()\n",
    "for q_step in valores_q_step: \n",
    "    diccionario = {}\n",
    "    for tipo in tipos_cuantificacion:        \n",
    "        pesos = s.GetPesos(str(tipo),q_step)\n",
    "        MSE_almacenado = 0.0\n",
    "        for imagen in range(0,imagenes):\n",
    "            MSE_almacenado+= s.GetMSE(tipo,imagen,q_step)\n",
    "        resultado_total[tipo].append([pesos,MSE_almacenado/imagenes]) \n",
    "\n",
    "print(resultado_total)\n",
    "plt.figure()\n",
    "diccionario = resultado_total\n",
    "for tipo in diccionario:\n",
    "    plot = plt.plot([i[0] for i in diccionario[tipo]],[i[1] for i in diccionario[tipo]],label=tipo)\n",
    "    #plt.legend(bbox_to_anchor=(1.05, 1), loc='upper', borderaxespad=0.)\n",
    "    plt.ylabel('Error')\n",
    "    plt.xlabel('Peso')\n",
    "    #plt.title(tipo)\n",
    "    plt.show()"
   ]
  },
  {
   "cell_type": "code",
   "execution_count": 12,
   "metadata": {},
   "outputs": [
    {
     "name": "stdout",
     "output_type": "stream",
     "text": [
      "0 16.615691799587673\n",
      "1 277.89470757378473\n"
     ]
    }
   ],
   "source": [
    "from suma import Sumando\n",
    "try:\n",
    "    import matplotlib.pyplot as plt\n",
    "except:\n",
    "    os.system(\"pip3 install matplotlib --user\")\n",
    "    import matplotlib.pyplot as plt\n",
    "\n",
    "MSE_almacenado = s.GetMSE(\"deadzone\", 4 , 8)\n",
    "print(\"0 \" + str(MSE_almacenado))\n",
    "MSE_almacenado = s.GetMSE(\"deadzone\", 4 , 60)\n",
    "print(\"1 \" + str(MSE_almacenado))\n",
    "        "
   ]
  },
  {
   "cell_type": "code",
   "execution_count": null,
   "metadata": {},
   "outputs": [],
   "source": []
  }
 ],
 "metadata": {
  "kernelspec": {
   "display_name": "Python 3",
   "language": "python",
   "name": "python3"
  },
  "language_info": {
   "codemirror_mode": {
    "name": "ipython",
    "version": 3
   },
   "file_extension": ".py",
   "mimetype": "text/x-python",
   "name": "python",
   "nbconvert_exporter": "python",
   "pygments_lexer": "ipython3",
   "version": "3.6.9"
  }
 },
 "nbformat": 4,
 "nbformat_minor": 4
}
