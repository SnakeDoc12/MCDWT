{
 "cells": [
  {
   "cell_type": "code",
   "execution_count": 22,
   "metadata": {},
   "outputs": [],
   "source": [
    "!sudo rm -r /tmp/*"
   ]
  },
  {
   "cell_type": "code",
   "execution_count": 23,
   "metadata": {},
   "outputs": [],
   "source": [
    "bandas = [\"LL\",\"LH\",\"HL\",\"HH\"]\n",
    "imagen =\"{:03d}\".format(3)\n",
    "valores_q_step = [8,16,20,55,60,80,100,200,300,512,1028] \n",
    "tipos_cuantificacion = [\"midrise\"]"
   ]
  },
  {
   "cell_type": "code",
   "execution_count": 24,
   "metadata": {},
   "outputs": [
    {
     "name": "stdout",
     "output_type": "stream",
     "text": [
      "003.png  HH003.png  HL003.png  LH003.png  LL003.png\n",
      "Step : 8\n",
      "Banda : LL\n",
      "cp: -r not specified; omitting directory '/tmp/8/midrise/LL/inversas'\n",
      "Banda : LH\n",
      "cp: -r not specified; omitting directory '/tmp/8/midrise/LH/inversas'\n",
      "Banda : HL\n",
      "cp: -r not specified; omitting directory '/tmp/8/midrise/HL/inversas'\n",
      "Banda : HH\n",
      "cp: -r not specified; omitting directory '/tmp/8/midrise/HH/inversas'\n",
      "003.png  HH003.png  HL003.png  LH003.png  LL003.png\n",
      "Step : 16\n",
      "Banda : LL\n",
      "cp: -r not specified; omitting directory '/tmp/16/midrise/LL/inversas'\n",
      "Banda : LH\n",
      "cp: -r not specified; omitting directory '/tmp/16/midrise/LH/inversas'\n",
      "Banda : HL\n",
      "cp: -r not specified; omitting directory '/tmp/16/midrise/HL/inversas'\n",
      "Banda : HH\n",
      "cp: -r not specified; omitting directory '/tmp/16/midrise/HH/inversas'\n",
      "003.png  HH003.png  HL003.png  LH003.png  LL003.png\n",
      "Step : 20\n",
      "Banda : LL\n",
      "cp: -r not specified; omitting directory '/tmp/20/midrise/LL/inversas'\n",
      "Banda : LH\n",
      "cp: -r not specified; omitting directory '/tmp/20/midrise/LH/inversas'\n",
      "Banda : HL\n",
      "cp: -r not specified; omitting directory '/tmp/20/midrise/HL/inversas'\n",
      "Banda : HH\n",
      "cp: -r not specified; omitting directory '/tmp/20/midrise/HH/inversas'\n",
      "003.png  HH003.png  HL003.png  LH003.png  LL003.png\n",
      "Step : 55\n",
      "Banda : LL\n",
      "cp: -r not specified; omitting directory '/tmp/55/midrise/LL/inversas'\n",
      "Banda : LH\n",
      "cp: -r not specified; omitting directory '/tmp/55/midrise/LH/inversas'\n",
      "Banda : HL\n",
      "cp: -r not specified; omitting directory '/tmp/55/midrise/HL/inversas'\n",
      "Banda : HH\n",
      "cp: -r not specified; omitting directory '/tmp/55/midrise/HH/inversas'\n",
      "003.png  HH003.png  HL003.png  LH003.png  LL003.png\n",
      "Step : 60\n",
      "Banda : LL\n",
      "cp: -r not specified; omitting directory '/tmp/60/midrise/LL/inversas'\n",
      "Banda : LH\n",
      "cp: -r not specified; omitting directory '/tmp/60/midrise/LH/inversas'\n",
      "Banda : HL\n",
      "cp: -r not specified; omitting directory '/tmp/60/midrise/HL/inversas'\n",
      "Banda : HH\n",
      "cp: -r not specified; omitting directory '/tmp/60/midrise/HH/inversas'\n",
      "003.png  HH003.png  HL003.png  LH003.png  LL003.png\n",
      "Step : 80\n",
      "Banda : LL\n",
      "cp: -r not specified; omitting directory '/tmp/80/midrise/LL/inversas'\n",
      "Banda : LH\n",
      "cp: -r not specified; omitting directory '/tmp/80/midrise/LH/inversas'\n",
      "Banda : HL\n",
      "cp: -r not specified; omitting directory '/tmp/80/midrise/HL/inversas'\n",
      "Banda : HH\n",
      "cp: -r not specified; omitting directory '/tmp/80/midrise/HH/inversas'\n",
      "003.png  HH003.png  HL003.png  LH003.png  LL003.png\n",
      "Step : 100\n",
      "Banda : LL\n",
      "cp: -r not specified; omitting directory '/tmp/100/midrise/LL/inversas'\n",
      "Banda : LH\n",
      "cp: -r not specified; omitting directory '/tmp/100/midrise/LH/inversas'\n",
      "Banda : HL\n",
      "cp: -r not specified; omitting directory '/tmp/100/midrise/HL/inversas'\n",
      "Banda : HH\n",
      "cp: -r not specified; omitting directory '/tmp/100/midrise/HH/inversas'\n",
      "003.png  HH003.png  HL003.png  LH003.png  LL003.png\n",
      "Step : 200\n",
      "Banda : LL\n",
      "cp: -r not specified; omitting directory '/tmp/200/midrise/LL/inversas'\n",
      "Banda : LH\n",
      "cp: -r not specified; omitting directory '/tmp/200/midrise/LH/inversas'\n",
      "Banda : HL\n",
      "cp: -r not specified; omitting directory '/tmp/200/midrise/HL/inversas'\n",
      "Banda : HH\n",
      "cp: -r not specified; omitting directory '/tmp/200/midrise/HH/inversas'\n",
      "003.png  HH003.png  HL003.png  LH003.png  LL003.png\n",
      "Step : 300\n",
      "Banda : LL\n",
      "cp: -r not specified; omitting directory '/tmp/300/midrise/LL/inversas'\n",
      "Banda : LH\n",
      "cp: -r not specified; omitting directory '/tmp/300/midrise/LH/inversas'\n",
      "Banda : HL\n",
      "cp: -r not specified; omitting directory '/tmp/300/midrise/HL/inversas'\n",
      "Banda : HH\n",
      "cp: -r not specified; omitting directory '/tmp/300/midrise/HH/inversas'\n",
      "003.png  HH003.png  HL003.png  LH003.png  LL003.png\n",
      "Step : 512\n",
      "Banda : LL\n",
      "cp: -r not specified; omitting directory '/tmp/512/midrise/LL/inversas'\n",
      "Banda : LH\n",
      "cp: -r not specified; omitting directory '/tmp/512/midrise/LH/inversas'\n",
      "Banda : HL\n",
      "cp: -r not specified; omitting directory '/tmp/512/midrise/HL/inversas'\n",
      "Banda : HH\n",
      "cp: -r not specified; omitting directory '/tmp/512/midrise/HH/inversas'\n",
      "003.png  HH003.png  HL003.png  LH003.png  LL003.png\n",
      "Step : 1028\n",
      "Banda : LL\n",
      "cp: -r not specified; omitting directory '/tmp/1028/midrise/LL/inversas'\n",
      "Banda : LH\n",
      "cp: -r not specified; omitting directory '/tmp/1028/midrise/LH/inversas'\n",
      "Banda : HL\n",
      "cp: -r not specified; omitting directory '/tmp/1028/midrise/HL/inversas'\n",
      "Banda : HH\n",
      "cp: -r not specified; omitting directory '/tmp/1028/midrise/HH/inversas'\n"
     ]
    }
   ],
   "source": [
    "q_step=32  \n",
    "predictor=2  \n",
    "\n",
    "for q_step in valores_q_step:\n",
    "    !mkdir /tmp/{q_step} && mkdir /tmp/{q_step}/original  &&  cp sequences/stockholm/{imagen}.png /tmp/{q_step}/original/   \n",
    "    !mkdir /tmp/{q_step}/dwt  && cp /tmp/{q_step}/original/* /tmp/{q_step}/dwt/  \n",
    "    !cd src/ && python3 -O DWT.py -p /tmp/{q_step}/dwt/ -i {imagen}\n",
    "    !ls /tmp/{q_step}/dwt/\n",
    "    for tipo in tipos_cuantificacion:\n",
    "        !mkdir /tmp/{q_step}/{tipo} \n",
    "        print(\"Step : \"+str(q_step))\n",
    "        for banda in bandas: \n",
    "            print(\"Banda : \"+str(banda))\n",
    "            !mkdir /tmp/{q_step}/{tipo}/{banda}\n",
    "            !cp /tmp/{q_step}/dwt/*.png /tmp/{q_step}/{tipo}/{banda}\n",
    "            !rm -r /tmp/{q_step}/{tipo}/{banda}/{banda}{imagen}.png\n",
    "            !python3 tools/quantize.py -t {tipo} -i /tmp/{q_step}/dwt/{banda}{imagen}.png -o /tmp/{q_step}/{tipo}/{banda}/{banda}{imagen}.png -q {q_step}  \n",
    "            !mkdir /tmp/{q_step}/{tipo}/{banda}/inversas  &&  cp /tmp/{q_step}/{tipo}/{banda}/* /tmp/{q_step}/{tipo}/{banda}/inversas  \n",
    "            !cd src/ && python3 -O DWT.py -p /tmp/{q_step}/{tipo}/{banda}/inversas/ -b  -i {imagen}"
   ]
  },
  {
   "cell_type": "code",
   "execution_count": 25,
   "metadata": {},
   "outputs": [
    {
     "name": "stdout",
     "output_type": "stream",
     "text": [
      "import os\r",
      "\r\n",
      "import sys\r",
      "\r\n",
      "import math\r",
      "\r\n",
      "try:\r",
      "\r\n",
      "    import cv2\r",
      "\r\n",
      "except:\r",
      "\r\n",
      "    os.system(\"pip3 install opencv-python --user\")\r",
      "\r\n",
      "try:\r",
      "\r\n",
      "    import numpy as np\r",
      "\r\n",
      "except:\r",
      "\r\n",
      "    os.system(\"pip3 install numpy --user\")\r",
      "\r\n",
      "\r",
      "\r\n",
      "import argparse\r",
      "\r\n",
      "\r",
      "\r\n",
      "try:\r",
      "\r\n",
      "    import skimage.metrics\r",
      "\r\n",
      "except:\r",
      "\r\n",
      "    os.system(\"pip3 install scikit-image --user\")\r",
      "\r\n",
      "\r",
      "\r\n",
      "try:\r",
      "\r\n",
      "    import scipy\r",
      "\r\n",
      "    from scipy import stats\r",
      "\r\n",
      "except:\r",
      "\r\n",
      "    os.system(\"pip3 install scipy --user\")\r",
      "\r\n",
      "\r",
      "\r\n",
      "class Sumando():\r",
      "\r\n",
      "    def __init__(self):\r",
      "\r\n",
      "        print(\"\")       \r",
      "\r\n",
      "    def calcularMSE(self,original,cuantificada):\r",
      "\r\n",
      "        x = cv2.imread(original, -1)\r",
      "\r\n",
      "        y = cv2.imread(cuantificada, -1)\r",
      "\r\n",
      "        MSE = skimage.metrics.mean_squared_error(x, y)\r",
      "\r\n",
      "        return MSE\r",
      "\r\n",
      "    def GetPesos(self,cuantificador, q):\r",
      "\r\n",
      "        path = \"/tmp/\"+str(q)+\"/\"+str(cuantificador) + \"/\"\r",
      "\r\n",
      "        tamanoTotalNuevo = 0.0\r",
      "\r\n",
      "        for i in range(5):\r",
      "\r\n",
      "            path_archivo_reducido = os.path.join(path,\"LL{:03d}\".format(i)+\".png\")\r",
      "\r\n",
      "            tamanoTotalNuevo += os.stat(path_archivo_reducido).st_size\r",
      "\r\n",
      "            path_archivo_reducido = os.path.join(path,\"LH{:03d}\".format(i)+\".png\")\r",
      "\r\n",
      "            tamanoTotalNuevo += os.stat(path_archivo_reducido).st_size\r",
      "\r\n",
      "            path_archivo_reducido = os.path.join(path,\"HL{:03d}\".format(i)+\".png\")\r",
      "\r\n",
      "            tamanoTotalNuevo += os.stat(path_archivo_reducido).st_size\r",
      "\r\n",
      "            path_archivo_reducido = os.path.join(path,\"HH{:03d}\".format(i)+\".png\")\r",
      "\r\n",
      "            tamanoTotalNuevo += os.stat(path_archivo_reducido).st_size\r",
      "\r\n",
      "        return tamanoTotalNuevo\r",
      "\r\n",
      "    def GetPesosSubbandas(self,cuantificador, q,banda,imagen):\r",
      "\r\n",
      "        path = \"/tmp/\"+str(q)+\"/\"+cuantificador+\"/\"+banda+\"/\"\t\r",
      "\r\n",
      "        tamanoTotalNuevo = 0.0        \r",
      "\r\n",
      "        path_archivo_reducido = os.path.join(path,\"LL{:03d}\".format(imagen)+\".png\")\r",
      "\r\n",
      "        tamanoTotalNuevo += os.stat(path_archivo_reducido).st_size\r",
      "\r\n",
      "        path_archivo_reducido = os.path.join(path,\"LH{:03d}\".format(imagen)+\".png\")\r",
      "\r\n",
      "        tamanoTotalNuevo += os.stat(path_archivo_reducido).st_size\r",
      "\r\n",
      "        path_archivo_reducido = os.path.join(path,\"HL{:03d}\".format(imagen)+\".png\")\r",
      "\r\n",
      "        tamanoTotalNuevo += os.stat(path_archivo_reducido).st_size\r",
      "\r\n",
      "        path_archivo_reducido = os.path.join(path,\"HH{:03d}\".format(imagen)+\".png\")\r",
      "\r\n",
      "        tamanoTotalNuevo += os.stat(path_archivo_reducido).st_size\r",
      "\r\n",
      "        return tamanoTotalNuevo\r",
      "\r\n",
      "    def GetMSE(self,cuantificador,imagen,q):\r",
      "\r\n",
      "        cuantizada = \"/tmp/\"+str(q)+\"/\"+cuantificador+\"/inversas/\"+\"{:03d}\".format(imagen)+\".png\"\r",
      "\r\n",
      "        original = \"/tmp/\"+str(q)+\"/original/\"+\"{:03d}\".format(imagen)+\".png\"\r",
      "\r\n",
      "        x = cv2.imread(original, -1)\r",
      "\r\n",
      "        y = cv2.imread(cuantizada, -1)\r",
      "\r\n",
      "        MSE = skimage.metrics.mean_squared_error(x, y)\r",
      "\r\n",
      "        return MSE\r",
      "\r\n",
      "    def GetMSESubbanda(self,cuantificador,imagen,q,banda):\r",
      "\r\n",
      "        cuantizada = \"/tmp/\"+str(q)+\"/\"+cuantificador+\"/\"+banda+\"/inversas/\"+\"{:03d}\".format(imagen)+\".png\"\r",
      "\r\n",
      "        original = \"/tmp/\"+str(q)+\"/original/\"+\"{:03d}\".format(imagen)+\".png\"\r",
      "\r\n",
      "        x = cv2.imread(original, -1)\r",
      "\r\n",
      "        y = cv2.imread(cuantizada, -1)\r",
      "\r\n",
      "        MSE = skimage.metrics.mean_squared_error(x, y)\r",
      "\r\n",
      "        return MSE\r",
      "\r\n",
      "    def AddSizes(path = \"/tmp/\", N = 5):\r",
      "\r\n",
      "        tamanoTotal = 0.0\r",
      "\r\n",
      "        tamanoTotalNuevo = 0.0 \r",
      "\r\n",
      "        for i in range(N):            \r",
      "\r\n",
      "            path_archivo_normal = os.path.join(path,\"{:03d}\".format(i)+\".png\")\r",
      "\r\n",
      "            path_archivo_reducido = os.path.join(path,\"LL{:03d}\".format(i)+\".png\")\r",
      "\r\n",
      "            tamanoTotalNuevo += os.stat(path_archivo_reducido).st_size\r",
      "\r\n",
      "            path_archivo_reducido = os.path.join(path,\"LH{:03d}\".format(i)+\".png\")\r",
      "\r\n",
      "            tamanoTotalNuevo += os.stat(path_archivo_reducido).st_size\r",
      "\r\n",
      "            path_archivo_reducido = os.path.join(path,\"HL{:03d}\".format(i)+\".png\")\r",
      "\r\n",
      "            tamanoTotalNuevo += os.stat(path_archivo_reducido).st_size\r",
      "\r\n",
      "            path_archivo_reducido = os.path.join(path,\"HH{:03d}\".format(i)+\".png\")\r",
      "\r\n",
      "            tamanoTotal += os.stat(path_archivo_normal).st_size\r",
      "\r\n",
      "            tamanoTotalNuevo += os.stat(path_archivo_reducido).st_size\r",
      "\r\n",
      "        \"\"\"\r",
      "\r\n",
      "    if __name__ ==\"__main__\":\r",
      "\r\n",
      "            if len(sys.argv) < 2:\r",
      "\r\n",
      "                AddSizes()\r",
      "\r\n",
      "            elif len(sys.argv) == 2:\r",
      "\r\n",
      "                AddSizes(N=int(sys.argv[1]))            \r",
      "\r\n",
      "            else:\r",
      "\r\n",
      "                AddSizes(sys.argv[1],int(sys.argv[2]))\r",
      "\r\n",
      "                \"\"\"\r",
      "\r\n"
     ]
    }
   ],
   "source": [
    "!cat suma.py"
   ]
  },
  {
   "cell_type": "code",
   "execution_count": 27,
   "metadata": {
    "scrolled": true
   },
   "outputs": [
    {
     "name": "stdout",
     "output_type": "stream",
     "text": [
      "\n",
      "2465309.0\n",
      "2468318.0\n",
      "2466954.0\n",
      "2586468.0\n",
      "2363175.0\n",
      "2386557.0\n",
      "2415172.0\n",
      "2585367.0\n",
      "2347248.0\n",
      "2369719.0\n",
      "2408916.0\n",
      "2585296.0\n",
      "2204914.0\n",
      "2344557.0\n",
      "2401453.0\n",
      "2585315.0\n",
      "2192416.0\n",
      "2343901.0\n",
      "2401310.0\n",
      "2585315.0\n",
      "2162035.0\n",
      "2342919.0\n",
      "2401206.0\n",
      "2585315.0\n",
      "2127219.0\n",
      "2342731.0\n",
      "2401173.0\n",
      "2585315.0\n",
      "2038316.0\n",
      "2342641.0\n",
      "2401173.0\n",
      "2585315.0\n",
      "2002999.0\n",
      "2342641.0\n",
      "2401173.0\n",
      "2585315.0\n",
      "1959413.0\n",
      "2247126.0\n",
      "2283935.0\n",
      "2479958.0\n",
      "1968342.0\n",
      "2342998.0\n",
      "2401570.0\n",
      "2585673.0\n",
      "{'LL': [[2465309.0, 1.3026123046875], [2363175.0, 3.335698445638021], [2347248.0, 4.8715806749131945], [2204914.0, 34.47860209147135], [2192416.0, 41.307908121744795], [2162035.0, 80.6292002360026], [2127219.0, 128.54580722384983], [2038316.0, 550.8373324924045], [2002999.0, 1376.9866611056857], [1959413.0, 5388.257095336914], [1968342.0, 32246.74918077257]], 'LH': [[2468318.0, 2.7027320014105904], [2386557.0, 9.106888495551216], [2369719.0, 14.608125813802083], [2344557.0, 151.94849887424044], [2343901.0, 185.75043436686198], [2342919.0, 356.9074174669054], [2342731.0, 587.6227145724827], [2342641.0, 2636.9893046061197], [2342641.0, 6180.247202555339], [2247126.0, 18632.84757554796], [2342998.0, 77002.27856038412]], 'HL': [[2466954.0, 2.7005408393012154], [2415172.0, 10.066427273220485], [2408916.0, 17.03782518174913], [2401453.0, 189.19640435112848], [2401310.0, 231.46974249945745], [2401206.0, 439.9445298936632], [2401173.0, 716.272795952691], [2401173.0, 3116.4660763210723], [2401173.0, 7214.054158189561], [2283935.0, 21514.910562133788], [2401570.0, 88205.12630445692]], 'HH': [[2586468.0, 8.868032836914063], [2585367.0, 45.011551242404515], [2585296.0, 74.68337504069011], [2585315.0, 664.3854621039496], [2585315.0, 797.4558505588108], [2585315.0, 1449.3463406032986], [2585315.0, 2294.908302137587], [2585315.0, 9427.607294718424], [2585315.0, 21401.657818603515], [2479958.0, 62798.87099948459], [2585673.0, 254493.39165039064]]}\n"
     ]
    },
    {
     "data": {
      "image/png": "[encoded data removed]",
      "text/plain": [
       "<Figure size 432x288 with 1 Axes>"
      ]
     },
     "metadata": {
      "needs_background": "light"
     },
     "output_type": "display_data"
    },
    {
     "data": {
      "image/png": "[encoded data removed]",
      "text/plain": [
       "<Figure size 432x288 with 1 Axes>"
      ]
     },
     "metadata": {
      "needs_background": "light"
     },
     "output_type": "display_data"
    },
    {
     "data": {
      "image/png": "[encoded data removed]",
      "text/plain": [
       "<Figure size 432x288 with 1 Axes>"
      ]
     },
     "metadata": {
      "needs_background": "light"
     },
     "output_type": "display_data"
    },
    {
     "data": {
      "image/png": "[encoded data removed]",
      "text/plain": [
       "<Figure size 432x288 with 1 Axes>"
      ]
     },
     "metadata": {
      "needs_background": "light"
     },
     "output_type": "display_data"
    }
   ],
   "source": [
    "from suma import Sumando\n",
    "try:\n",
    "    import matplotlib.pyplot as plt\n",
    "except:\n",
    "    os.system(\"pip3 install matplotlib --user\")\n",
    "    import matplotlib.pyplot as plt\n",
    "\n",
    "imagenes = 5\n",
    "resultado_total = {\"LL\" : [],\"LH\" : [],\"HL\" : [],\"HH\" : []}\n",
    "s = Sumando()\n",
    "imagen = 3\n",
    "for q_step in valores_q_step: \n",
    "    diccionario = {}\n",
    "    for tipo in tipos_cuantificacion:     \n",
    "        for banda in [\"LL\", \"LH\", \"HL\", \"HH\"]:\n",
    "            pesos = s.GetPesosSubbandas(str(tipo), str(q_step),banda,imagen)\n",
    "            print(pesos)\n",
    "            MSE = 0.0\n",
    "            MSE += s.GetMSESubbanda(tipo,imagen,q_step,banda)\n",
    "            resultado_total[banda].append([pesos,MSE]) \n",
    "print(resultado_total)\n",
    "plt.figure()\n",
    "diccionario = resultado_total\n",
    "for tipo in diccionario:\n",
    "    plot = plt.plot([i[0] for i in diccionario[tipo]],[i[1] for i in diccionario[tipo]],label=tipo)\n",
    "    #plt.legend(bbox_to_anchor=(1.05, 1), loc='upper', borderaxespad=0.)\n",
    "    plt.ylabel('Error')\n",
    "    plt.xlabel('Peso')\n",
    "    plt.title(tipo)\n",
    "    plt.show()"
   ]
  },
  {
   "cell_type": "code",
   "execution_count": 13,
   "metadata": {},
   "outputs": [],
   "source": [
    "import numpy as np\n",
    "import matplotlib.pyplot as plt"
   ]
  },
  {
   "cell_type": "code",
   "execution_count": 14,
   "metadata": {},
   "outputs": [
    {
     "name": "stdout",
     "output_type": "stream",
     "text": [
      "{'LL': [[2468285.0, 1.3053460015190972], [2366193.0, 3.3348507351345487], [2349731.0, 4.866026814778646], [2207678.0, 34.43072645399305], [2195376.0, 41.17566121419271], [2165033.0, 80.52439846462674], [2129621.0, 128.32088080512153], [2040173.0, 550.9065687391493], [2005373.0, 1378.6788814968534], [1961507.0, 5395.475536092123], [1970444.0, 32276.949439493816]], 'LH': [[2470981.0, 2.70525885687934], [2388912.0, 9.060213216145833], [2371582.0, 14.535821194118924], [2346680.0, 151.55927124023438], [2346008.0, 185.28851453993056], [2345023.0, 356.235011461046], [2344893.0, 586.6770918104384], [2344769.0, 2634.835060289171], [2344769.0, 6176.719656711154], [2249353.0, 18625.59763285319], [2345129.0, 76982.49168362087]], 'HL': [[2469631.0, 2.69366455078125], [2417248.0, 10.001346164279514], [2411090.0, 16.913261244032118], [2403294.0, 188.41103888617621], [2403180.0, 230.5309332953559], [2403100.0, 438.5846394856771], [2403059.0, 714.4363250732422], [2403055.0, 3111.9588494194877], [2403055.0, 7206.435681152344], [2285796.0, 21498.71286655002], [2403446.0, 88157.57504001193]], 'HH': [[2588883.0, 8.867100694444444], [2587796.0, 45.043902248806425], [2587716.0, 74.74253336588542], [2587759.0, 664.9450137668185], [2587759.0, 798.1382978651259], [2587759.0, 1450.5771325005426], [2587759.0, 2296.874338107639], [2587759.0, 9435.58320787218], [2587759.0, 21419.83509012858], [2482335.0, 62851.83064541287], [2588117.0, 254708.08739929198]]}\n"
     ]
    }
   ],
   "source": [
    "# Lists of operational RD (Rate/Distortion) points\n",
    "print(resultado_total)\n",
    "LL = resultado_total[\"LL\"]\n",
    "LH = resultado_total[\"LH\"]\n",
    "HL = resultado_total[\"HL\"]\n",
    "HH = resultado_total[\"HH\"]"
   ]
  },
  {
   "cell_type": "code",
   "execution_count": 15,
   "metadata": {},
   "outputs": [
    {
     "name": "stdout",
     "output_type": "stream",
     "text": [
      "[(1.9879174995253803e-05, 2366193.0, 'LL'), (9.301276148973985e-05, 2349731.0, 'LL'), (0.00020812442989035364, 2207678.0, 'LL'), (0.0005482795285481755, 2195376.0, 'LL'), (0.0012967978528963529, 2165033.0, 'LL'), (0.0013497255828672425, 2129621.0, 'LL'), (0.00472437268506873, 2040173.0, 'LL'), (0.02378656071142828, 2005373.0, 'LL'), (0.09156970443157045, 1961507.0, 'LL'), (-3.007885633143302, 1970444.0, 'LL'), (7.743428528758109e-05, 2388912.0, 'LH'), (0.0003159612220411478, 2371582.0, 'LH'), (0.005502507832548207, 2346680.0, 'LH'), (0.0501923263388336, 2346008.0, 'LH'), (0.17354974306712226, 2345023.0, 'LH'), (1.7726313873030182, 2344893.0, 'LH'), (16.51740297160268, 2344769.0, 'LH'), (-inf, 2344769.0, 'LH'), (0.1304695017202779, 2249353.0, 'LH'), (-0.6093060270920447, 2345129.0, 'LH'), (0.00013950483197789864, 2417248.0, 'HL'), (0.001122428561181001, 2411090.0, 'HL'), (0.021998175685241674, 2403294.0, 'HL'), (0.36947275797526047, 2403180.0, 'HL'), (2.6006713273790147, 2403100.0, 'HL'), (6.728089892379637, 2403059.0, 'HL'), (599.3806310865614, 2403055.0, 'HL'), (-inf, 2403055.0, 'HL'), (0.1218863983608736, 2285796.0, 'HL'), (-0.5665861638203307, 2403446.0, 'HL'), (0.03328132617696594, 2587796.0, 'HH'), (0.37123288896348744, 2587716.0, 'HH'), (-13.725639079091469, 2587759.0, 'HH'), (-inf, 2587759.0, 'HH'), (-inf, 2587759.0, 'HH'), (-inf, 2587759.0, 'HH'), (-inf, 2587759.0, 'HH'), (-inf, 2587759.0, 'HH'), (0.39300344850588376, 2482335.0, 'HH'), (-1.813694737799239, 2588117.0, 'HH')]\n"
     ]
    },
    {
     "name": "stderr",
     "output_type": "stream",
     "text": [
      "/home/ubuntu/.local/lib/python3.6/site-packages/ipykernel_launcher.py:7: RuntimeWarning: divide by zero encountered in double_scalars\n",
      "  import sys\n"
     ]
    }
   ],
   "source": [
    "# Slopes of each pair of points\n",
    "total = []\n",
    "for sub in resultado_total:\n",
    "    slopes1 = [] \n",
    "    curve1 = resultado_total[sub]\n",
    "    for i in range(len(curve1)-1):\n",
    "        slope = (curve1[i][1]-curve1[i+1][1])/(curve1[i+1][0]-curve1[i][0])\n",
    "        slopes1.append((slope, curve1[i+1][0], sub))\n",
    "    total = total + slopes1\n",
    "print(total)"
   ]
  },
  {
   "cell_type": "code",
   "execution_count": 16,
   "metadata": {},
   "outputs": [
    {
     "name": "stdout",
     "output_type": "stream",
     "text": [
      "[(599.3806310865614, 2403055.0, 'HL'), (16.51740297160268, 2344769.0, 'LH'), (6.728089892379637, 2403059.0, 'HL'), (2.6006713273790147, 2403100.0, 'HL'), (1.7726313873030182, 2344893.0, 'LH'), (0.39300344850588376, 2482335.0, 'HH'), (0.37123288896348744, 2587716.0, 'HH'), (0.36947275797526047, 2403180.0, 'HL'), (0.17354974306712226, 2345023.0, 'LH'), (0.1304695017202779, 2249353.0, 'LH'), (0.1218863983608736, 2285796.0, 'HL'), (0.09156970443157045, 1961507.0, 'LL'), (0.0501923263388336, 2346008.0, 'LH'), (0.03328132617696594, 2587796.0, 'HH'), (0.02378656071142828, 2005373.0, 'LL'), (0.021998175685241674, 2403294.0, 'HL'), (0.005502507832548207, 2346680.0, 'LH'), (0.00472437268506873, 2040173.0, 'LL'), (0.0013497255828672425, 2129621.0, 'LL'), (0.0012967978528963529, 2165033.0, 'LL'), (0.001122428561181001, 2411090.0, 'HL'), (0.0005482795285481755, 2195376.0, 'LL'), (0.0003159612220411478, 2371582.0, 'LH'), (0.00020812442989035364, 2207678.0, 'LL'), (0.00013950483197789864, 2417248.0, 'HL'), (9.301276148973985e-05, 2349731.0, 'LL'), (7.743428528758109e-05, 2388912.0, 'LH'), (1.9879174995253803e-05, 2366193.0, 'LL'), (-0.5665861638203307, 2403446.0, 'HL'), (-0.6093060270920447, 2345129.0, 'LH'), (-1.813694737799239, 2588117.0, 'HH'), (-3.007885633143302, 1970444.0, 'LL'), (-13.725639079091469, 2587759.0, 'HH'), (-inf, 2587759.0, 'HH'), (-inf, 2587759.0, 'HH'), (-inf, 2587759.0, 'HH'), (-inf, 2587759.0, 'HH'), (-inf, 2587759.0, 'HH'), (-inf, 2403055.0, 'HL'), (-inf, 2344769.0, 'LH')]\n"
     ]
    }
   ],
   "source": [
    "sorted_lists = sorted(total, key=lambda tup: tup[0])[::-1]\n",
    "print(sorted_lists)"
   ]
  },
  {
   "cell_type": "code",
   "execution_count": 21,
   "metadata": {},
   "outputs": [
    {
     "name": "stdout",
     "output_type": "stream",
     "text": [
      "Optimal RD points = [(599.3806310865614, 2403055.0, 'HL'), (16.51740297160268, 2344769.0, 'LH'), (6.728089892379637, 2403059.0, 'HL'), (2.6006713273790147, 2403100.0, 'HL'), (1.7726313873030182, 2344893.0, 'LH'), (0.39300344850588376, 2482335.0, 'HH')]\n",
      "bit-rate = 14381211.0\n"
     ]
    }
   ],
   "source": [
    "R = 15908500# Bit budget\n",
    "spent = 0\n",
    "i = 0\n",
    "optimal = []\n",
    "while True:\n",
    "    spent += sorted_lists[i][1]\n",
    "    if spent < R:\n",
    "        optimal.append(sorted_lists[i])\n",
    "    else:\n",
    "        break\n",
    "    i += 1\n",
    "print(\"Optimal RD points =\", optimal)\n",
    "br = sum([i[1] for i in optimal])\n",
    "print(\"bit-rate =\", br)"
   ]
  },
  {
   "cell_type": "code",
   "execution_count": null,
   "metadata": {},
   "outputs": [],
   "source": []
  }
 ],
 "metadata": {
  "kernelspec": {
   "display_name": "Python 3",
   "language": "python",
   "name": "python3"
  },
  "language_info": {
   "codemirror_mode": {
    "name": "ipython",
    "version": 3
   },
   "file_extension": ".py",
   "mimetype": "text/x-python",
   "name": "python",
   "nbconvert_exporter": "python",
   "pygments_lexer": "ipython3",
   "version": "3.6.9"
  }
 },
 "nbformat": 4,
 "nbformat_minor": 4
}
