{
 "cells": [
  {
   "cell_type": "markdown",
   "metadata": {},
   "source": [
    "# Sistemas Multimedia"
   ]
  },
  {
   "cell_type": "code",
   "execution_count": 1,
   "metadata": {},
   "outputs": [
    {
     "name": "stdout",
     "output_type": "stream",
     "text": [
      "rm: cannot remove '/tmp/9wPiTUwMH9': No such file or directory\r\n",
      "rm: cannot remove '/tmp/Q2uNej4HpZ': No such file or directory\r\n",
      "rm: cannot remove '/tmp/TRPOQmn1cL': No such file or directory\r\n",
      "rm: cannot remove '/tmp/xYK0h_XC3S': No such file or directory\r\n"
     ]
    }
   ],
   "source": [
    "!sudo rm -r /tmp/*"
   ]
  },
  {
   "cell_type": "markdown",
   "metadata": {},
   "source": [
    "## Comparing quantizer in subbands"
   ]
  },
  {
   "cell_type": "markdown",
   "metadata": {},
   "source": [
    "### Global Configuration"
   ]
  },
  {
   "cell_type": "code",
   "execution_count": 2,
   "metadata": {},
   "outputs": [],
   "source": [
    "bandas = [\"LL\",\"LH\",\"HL\",\"HH\"]\n",
    "imagen =\"{:03d}\".format(3)\n",
    "valores_q_step = [8,16,20,55,60,80,100,200,300,512,1028] \n",
    "tipos_cuantificacion = [\"deadzone\"]"
   ]
  },
  {
   "cell_type": "code",
   "execution_count": 3,
   "metadata": {},
   "outputs": [
    {
     "name": "stdout",
     "output_type": "stream",
     "text": [
      "003.png  HH003.png  HL003.png  LH003.png  LL003.png\n",
      "Step : 8\n",
      "Banda : LL\n",
      "cp: -r not specified; omitting directory '/tmp/8/deadzone/LL/inversas'\n",
      "Banda : LH\n",
      "cp: -r not specified; omitting directory '/tmp/8/deadzone/LH/inversas'\n",
      "Banda : HL\n",
      "cp: -r not specified; omitting directory '/tmp/8/deadzone/HL/inversas'\n",
      "Banda : HH\n",
      "cp: -r not specified; omitting directory '/tmp/8/deadzone/HH/inversas'\n",
      "003.png  HH003.png  HL003.png  LH003.png  LL003.png\n",
      "Step : 16\n",
      "Banda : LL\n",
      "cp: -r not specified; omitting directory '/tmp/16/deadzone/LL/inversas'\n",
      "Banda : LH\n",
      "cp: -r not specified; omitting directory '/tmp/16/deadzone/LH/inversas'\n",
      "Banda : HL\n",
      "cp: -r not specified; omitting directory '/tmp/16/deadzone/HL/inversas'\n",
      "Banda : HH\n",
      "cp: -r not specified; omitting directory '/tmp/16/deadzone/HH/inversas'\n",
      "003.png  HH003.png  HL003.png  LH003.png  LL003.png\n",
      "Step : 20\n",
      "Banda : LL\n",
      "cp: -r not specified; omitting directory '/tmp/20/deadzone/LL/inversas'\n",
      "Banda : LH\n",
      "cp: -r not specified; omitting directory '/tmp/20/deadzone/LH/inversas'\n",
      "Banda : HL\n",
      "cp: -r not specified; omitting directory '/tmp/20/deadzone/HL/inversas'\n",
      "Banda : HH\n",
      "cp: -r not specified; omitting directory '/tmp/20/deadzone/HH/inversas'\n",
      "003.png  HH003.png  HL003.png  LH003.png  LL003.png\n",
      "Step : 55\n",
      "Banda : LL\n",
      "cp: -r not specified; omitting directory '/tmp/55/deadzone/LL/inversas'\n",
      "Banda : LH\n",
      "cp: -r not specified; omitting directory '/tmp/55/deadzone/LH/inversas'\n",
      "Banda : HL\n",
      "cp: -r not specified; omitting directory '/tmp/55/deadzone/HL/inversas'\n",
      "Banda : HH\n",
      "cp: -r not specified; omitting directory '/tmp/55/deadzone/HH/inversas'\n",
      "003.png  HH003.png  HL003.png  LH003.png  LL003.png\n",
      "Step : 60\n",
      "Banda : LL\n",
      "cp: -r not specified; omitting directory '/tmp/60/deadzone/LL/inversas'\n",
      "Banda : LH\n",
      "cp: -r not specified; omitting directory '/tmp/60/deadzone/LH/inversas'\n",
      "Banda : HL\n",
      "cp: -r not specified; omitting directory '/tmp/60/deadzone/HL/inversas'\n",
      "Banda : HH\n",
      "cp: -r not specified; omitting directory '/tmp/60/deadzone/HH/inversas'\n",
      "003.png  HH003.png  HL003.png  LH003.png  LL003.png\n",
      "Step : 80\n",
      "Banda : LL\n",
      "cp: -r not specified; omitting directory '/tmp/80/deadzone/LL/inversas'\n",
      "Banda : LH\n",
      "cp: -r not specified; omitting directory '/tmp/80/deadzone/LH/inversas'\n",
      "Banda : HL\n",
      "cp: -r not specified; omitting directory '/tmp/80/deadzone/HL/inversas'\n",
      "Banda : HH\n",
      "cp: -r not specified; omitting directory '/tmp/80/deadzone/HH/inversas'\n",
      "003.png  HH003.png  HL003.png  LH003.png  LL003.png\n",
      "Step : 100\n",
      "Banda : LL\n",
      "cp: -r not specified; omitting directory '/tmp/100/deadzone/LL/inversas'\n",
      "Banda : LH\n",
      "cp: -r not specified; omitting directory '/tmp/100/deadzone/LH/inversas'\n",
      "Banda : HL\n",
      "cp: -r not specified; omitting directory '/tmp/100/deadzone/HL/inversas'\n",
      "Banda : HH\n",
      "cp: -r not specified; omitting directory '/tmp/100/deadzone/HH/inversas'\n",
      "003.png  HH003.png  HL003.png  LH003.png  LL003.png\n",
      "Step : 200\n",
      "Banda : LL\n",
      "cp: -r not specified; omitting directory '/tmp/200/deadzone/LL/inversas'\n",
      "Banda : LH\n",
      "cp: -r not specified; omitting directory '/tmp/200/deadzone/LH/inversas'\n",
      "Banda : HL\n",
      "cp: -r not specified; omitting directory '/tmp/200/deadzone/HL/inversas'\n",
      "Banda : HH\n",
      "cp: -r not specified; omitting directory '/tmp/200/deadzone/HH/inversas'\n",
      "003.png  HH003.png  HL003.png  LH003.png  LL003.png\n",
      "Step : 300\n",
      "Banda : LL\n",
      "cp: -r not specified; omitting directory '/tmp/300/deadzone/LL/inversas'\n",
      "Banda : LH\n",
      "cp: -r not specified; omitting directory '/tmp/300/deadzone/LH/inversas'\n",
      "Banda : HL\n",
      "cp: -r not specified; omitting directory '/tmp/300/deadzone/HL/inversas'\n",
      "Banda : HH\n",
      "cp: -r not specified; omitting directory '/tmp/300/deadzone/HH/inversas'\n",
      "003.png  HH003.png  HL003.png  LH003.png  LL003.png\n",
      "Step : 512\n",
      "Banda : LL\n",
      "cp: -r not specified; omitting directory '/tmp/512/deadzone/LL/inversas'\n",
      "Banda : LH\n",
      "cp: -r not specified; omitting directory '/tmp/512/deadzone/LH/inversas'\n",
      "Banda : HL\n",
      "cp: -r not specified; omitting directory '/tmp/512/deadzone/HL/inversas'\n",
      "Banda : HH\n",
      "cp: -r not specified; omitting directory '/tmp/512/deadzone/HH/inversas'\n",
      "003.png  HH003.png  HL003.png  LH003.png  LL003.png\n",
      "Step : 1028\n",
      "Banda : LL\n",
      "cp: -r not specified; omitting directory '/tmp/1028/deadzone/LL/inversas'\n",
      "Banda : LH\n",
      "cp: -r not specified; omitting directory '/tmp/1028/deadzone/LH/inversas'\n",
      "Banda : HL\n",
      "cp: -r not specified; omitting directory '/tmp/1028/deadzone/HL/inversas'\n",
      "Banda : HH\n",
      "cp: -r not specified; omitting directory '/tmp/1028/deadzone/HH/inversas'\n"
     ]
    }
   ],
   "source": [
    "q_step=32  \n",
    "predictor=2  \n",
    "\n",
    "for q_step in valores_q_step:\n",
    "    !mkdir /tmp/{q_step} && mkdir /tmp/{q_step}/original  &&  cp sequences/stockholm/{imagen}.png /tmp/{q_step}/original/   \n",
    "    !mkdir /tmp/{q_step}/dwt  && cp /tmp/{q_step}/original/* /tmp/{q_step}/dwt/  \n",
    "    !cd src/ && python3 -O DWT.py -p /tmp/{q_step}/dwt/ -i {imagen}\n",
    "    !ls /tmp/{q_step}/dwt/\n",
    "    for tipo in tipos_cuantificacion:\n",
    "        !mkdir /tmp/{q_step}/{tipo} \n",
    "        print(\"Step : \"+str(q_step))\n",
    "        for banda in bandas: \n",
    "            print(\"Banda : \"+str(banda))\n",
    "            !mkdir /tmp/{q_step}/{tipo}/{banda}\n",
    "            !cp /tmp/{q_step}/dwt/*.png /tmp/{q_step}/{tipo}/{banda}\n",
    "            !rm -r /tmp/{q_step}/{tipo}/{banda}/{banda}{imagen}.png\n",
    "            !python3 tools/quantize.py -t {tipo} -i /tmp/{q_step}/dwt/{banda}{imagen}.png -o /tmp/{q_step}/{tipo}/{banda}/{banda}{imagen}.png -q {q_step}  \n",
    "            !mkdir /tmp/{q_step}/{tipo}/{banda}/inversas  &&  cp /tmp/{q_step}/{tipo}/{banda}/* /tmp/{q_step}/{tipo}/{banda}/inversas  \n",
    "            !cd src/ && python3 -O DWT.py -p /tmp/{q_step}/{tipo}/{banda}/inversas/ -b  -i {imagen}"
   ]
  },
  {
   "cell_type": "code",
   "execution_count": 35,
   "metadata": {},
   "outputs": [
    {
     "name": "stdout",
     "output_type": "stream",
     "text": [
      "import os\r",
      "\r\n",
      "import sys\r",
      "\r\n",
      "import math\r",
      "\r\n",
      "try:\r",
      "\r\n",
      "    import cv2\r",
      "\r\n",
      "except:\r",
      "\r\n",
      "    os.system(\"pip3 install opencv-python --user\")\r",
      "\r\n",
      "try:\r",
      "\r\n",
      "    import numpy as np\r",
      "\r\n",
      "except:\r",
      "\r\n",
      "    os.system(\"pip3 install numpy --user\")\r",
      "\r\n",
      "\r",
      "\r\n",
      "import argparse\r",
      "\r\n",
      "\r",
      "\r\n",
      "try:\r",
      "\r\n",
      "    import skimage.metrics\r",
      "\r\n",
      "except:\r",
      "\r\n",
      "    os.system(\"pip3 install scikit-image --user\")\r",
      "\r\n",
      "\r",
      "\r\n",
      "try:\r",
      "\r\n",
      "    import scipy\r",
      "\r\n",
      "    from scipy import stats\r",
      "\r\n",
      "except:\r",
      "\r\n",
      "    os.system(\"pip3 install scipy --user\")\r",
      "\r\n",
      "\r",
      "\r\n",
      "class Sumando():\r",
      "\r\n",
      "    def __init__(self):\r",
      "\r\n",
      "        print(\"\")       \r",
      "\r\n",
      "    def calcularMSE(self,original,cuantificada):\r",
      "\r\n",
      "        x = cv2.imread(original, -1)\r",
      "\r\n",
      "        y = cv2.imread(cuantificada, -1)\r",
      "\r\n",
      "        MSE = skimage.metrics.mean_squared_error(x, y)\r",
      "\r\n",
      "        return MSE\r",
      "\r\n",
      "    def GetPesos(self,cuantificador, q):\r",
      "\r\n",
      "        path = \"/tmp/\"+str(q)+\"/\"+str(cuantificador) + \"/\"\r",
      "\r\n",
      "        tamanoTotalNuevo = 0.0\r",
      "\r\n",
      "        for i in range(5):\r",
      "\r\n",
      "            path_archivo_reducido = os.path.join(path,\"LL{:03d}\".format(i)+\".png\")\r",
      "\r\n",
      "            tamanoTotalNuevo += os.stat(path_archivo_reducido).st_size\r",
      "\r\n",
      "            path_archivo_reducido = os.path.join(path,\"LH{:03d}\".format(i)+\".png\")\r",
      "\r\n",
      "            tamanoTotalNuevo += os.stat(path_archivo_reducido).st_size\r",
      "\r\n",
      "            path_archivo_reducido = os.path.join(path,\"HL{:03d}\".format(i)+\".png\")\r",
      "\r\n",
      "            tamanoTotalNuevo += os.stat(path_archivo_reducido).st_size\r",
      "\r\n",
      "            path_archivo_reducido = os.path.join(path,\"HH{:03d}\".format(i)+\".png\")\r",
      "\r\n",
      "            tamanoTotalNuevo += os.stat(path_archivo_reducido).st_size\r",
      "\r\n",
      "        return tamanoTotalNuevo\r",
      "\r\n",
      "    def GetPesosSubbandas(self,cuantificador, q,banda,imagen):\r",
      "\r\n",
      "        path = \"/tmp/\"+str(q)+\"/\"+cuantificador+\"/\"+banda+\"/\"\t\r",
      "\r\n",
      "        tamanoTotalNuevo = 0.0        \r",
      "\r\n",
      "        path_archivo_reducido = os.path.join(path,\"LL{:03d}\".format(imagen)+\".png\")\r",
      "\r\n",
      "        tamanoTotalNuevo += os.stat(path_archivo_reducido).st_size\r",
      "\r\n",
      "        path_archivo_reducido = os.path.join(path,\"LH{:03d}\".format(imagen)+\".png\")\r",
      "\r\n",
      "        tamanoTotalNuevo += os.stat(path_archivo_reducido).st_size\r",
      "\r\n",
      "        path_archivo_reducido = os.path.join(path,\"HL{:03d}\".format(imagen)+\".png\")\r",
      "\r\n",
      "        tamanoTotalNuevo += os.stat(path_archivo_reducido).st_size\r",
      "\r\n",
      "        path_archivo_reducido = os.path.join(path,\"HH{:03d}\".format(imagen)+\".png\")\r",
      "\r\n",
      "        tamanoTotalNuevo += os.stat(path_archivo_reducido).st_size\r",
      "\r\n",
      "        return tamanoTotalNuevo\r",
      "\r\n",
      "    def GetMSE(self,cuantificador,imagen,q):\r",
      "\r\n",
      "        cuantizada = \"/tmp/\"+str(q)+\"/\"+cuantificador+\"/inversas/\"+\"{:03d}\".format(imagen)+\".png\"\r",
      "\r\n",
      "        original = \"/tmp/\"+str(q)+\"/original/\"+\"{:03d}\".format(imagen)+\".png\"\r",
      "\r\n",
      "        x = cv2.imread(original, -1)\r",
      "\r\n",
      "        y = cv2.imread(cuantizada, -1)\r",
      "\r\n",
      "        MSE = skimage.metrics.mean_squared_error(x, y)\r",
      "\r\n",
      "        return MSE\r",
      "\r\n",
      "    def GetMSESubbanda(self,cuantificador,imagen,q,banda):\r",
      "\r\n",
      "        cuantizada = \"/tmp/\"+str(q)+\"/\"+cuantificador+\"/\"+banda+\"/inversas/\"+\"{:03d}\".format(imagen)+\".png\"\r",
      "\r\n",
      "        original = \"/tmp/\"+str(q)+\"/original/\"+\"{:03d}\".format(imagen)+\".png\"\r",
      "\r\n",
      "        x = cv2.imread(original, -1)\r",
      "\r\n",
      "        y = cv2.imread(cuantizada, -1)\r",
      "\r\n",
      "        MSE = skimage.metrics.mean_squared_error(x, y)\r",
      "\r\n",
      "        return MSE\r",
      "\r\n",
      "    def AddSizes(path = \"/tmp/\", N = 5):\r",
      "\r\n",
      "        tamanoTotal = 0.0\r",
      "\r\n",
      "        tamanoTotalNuevo = 0.0 \r",
      "\r\n",
      "        for i in range(N):            \r",
      "\r\n",
      "            path_archivo_normal = os.path.join(path,\"{:03d}\".format(i)+\".png\")\r",
      "\r\n",
      "            path_archivo_reducido = os.path.join(path,\"LL{:03d}\".format(i)+\".png\")\r",
      "\r\n",
      "            tamanoTotalNuevo += os.stat(path_archivo_reducido).st_size\r",
      "\r\n",
      "            path_archivo_reducido = os.path.join(path,\"LH{:03d}\".format(i)+\".png\")\r",
      "\r\n",
      "            tamanoTotalNuevo += os.stat(path_archivo_reducido).st_size\r",
      "\r\n",
      "            path_archivo_reducido = os.path.join(path,\"HL{:03d}\".format(i)+\".png\")\r",
      "\r\n",
      "            tamanoTotalNuevo += os.stat(path_archivo_reducido).st_size\r",
      "\r\n",
      "            path_archivo_reducido = os.path.join(path,\"HH{:03d}\".format(i)+\".png\")\r",
      "\r\n",
      "            tamanoTotal += os.stat(path_archivo_normal).st_size\r",
      "\r\n",
      "            tamanoTotalNuevo += os.stat(path_archivo_reducido).st_size\r",
      "\r\n",
      "        \"\"\"\r",
      "\r\n",
      "    if __name__ ==\"__main__\":\r",
      "\r\n",
      "            if len(sys.argv) < 2:\r",
      "\r\n",
      "                AddSizes()\r",
      "\r\n",
      "            elif len(sys.argv) == 2:\r",
      "\r\n",
      "                AddSizes(N=int(sys.argv[1]))            \r",
      "\r\n",
      "            else:\r",
      "\r\n",
      "                AddSizes(sys.argv[1],int(sys.argv[2]))\r",
      "\r\n",
      "                \"\"\"\r",
      "\r\n"
     ]
    }
   ],
   "source": [
    "!cat suma.py"
   ]
  },
  {
   "cell_type": "markdown",
   "metadata": {},
   "source": [
    "### Plotting BR/Error"
   ]
  },
  {
   "cell_type": "code",
   "execution_count": 19,
   "metadata": {
    "scrolled": true
   },
   "outputs": [
    {
     "name": "stdout",
     "output_type": "stream",
     "text": [
      "\n",
      "{'LL': [[2456593.0, 6.53019036187066], [2349613.0, 20.5477779812283], [2331807.0, 30.651659138997395], [2181599.0, 207.23736267089845], [2165079.0, 238.4729678683811], [2130539.0, 441.51009894477], [2099700.0, 679.4840627034505], [2001104.0, 2774.7166629367402], [1974716.0, 3405.854334174262], [1936265.0, 9945.989212714301], [1935129.0, 10028.236135186089]], 'LH': [[2276373.0, 4.534849378797743], [2105227.0, 10.985757785373265], [2077266.0, 14.040610080295139], [2038614.0, 28.547782389322915], [2038037.0, 30.50743408203125], [2036234.0, 31.53858100043403], [2035873.0, 32.04040764702691], [2035716.0, 32.35353563096788], [2035716.0, 32.35353563096788], [2035716.0, 32.35353563096788], [2035716.0, 32.35353563096788]], 'HL': [[2188979.0, 4.72096930609809], [2062194.0, 8.99698248969184], [2050077.0, 10.333258734809029], [2038472.0, 13.346742078993056], [2038296.0, 13.462174818250869], [2038168.0, 13.540379842122396], [2038132.0, 13.578203667534723], [2038132.0, 13.578203667534723], [2038132.0, 13.578203667534723], [2038132.0, 13.578203667534723], [2038132.0, 13.578203667534723]], 'HH': [[2247047.0, 3.6603502061631943], [2244785.0, 3.762345377604167], [2244649.0, 3.773712158203125], [2244571.0, 3.788563707139757], [2244571.0, 3.788563707139757], [2244571.0, 3.788563707139757], [2244571.0, 3.788563707139757], [2244571.0, 3.788563707139757], [2244571.0, 3.788563707139757], [2244571.0, 3.788563707139757], [2244571.0, 3.788563707139757]]}\n"
     ]
    },
    {
     "data": {
      "image/png": "[encoded data removed]",
      "text/plain": [
       "<Figure size 432x288 with 1 Axes>"
      ]
     },
     "metadata": {
      "needs_background": "light"
     },
     "output_type": "display_data"
    },
    {
     "data": {
      "image/png": "[encoded data removed]",
      "text/plain": [
       "<Figure size 432x288 with 1 Axes>"
      ]
     },
     "metadata": {
      "needs_background": "light"
     },
     "output_type": "display_data"
    },
    {
     "data": {
      "image/png": "[encoded data removed]",
      "text/plain": [
       "<Figure size 432x288 with 1 Axes>"
      ]
     },
     "metadata": {
      "needs_background": "light"
     },
     "output_type": "display_data"
    },
    {
     "data": {
      "image/png": "[encoded data removed]",
      "text/plain": [
       "<Figure size 432x288 with 1 Axes>"
      ]
     },
     "metadata": {
      "needs_background": "light"
     },
     "output_type": "display_data"
    },
    {
     "data": {
      "image/png": "[encoded data removed]",
      "text/plain": [
       "<Figure size 432x288 with 1 Axes>"
      ]
     },
     "metadata": {
      "needs_background": "light"
     },
     "output_type": "display_data"
    }
   ],
   "source": [
    "from suma import Sumando\n",
    "try:\n",
    "    import matplotlib.pyplot as plt\n",
    "except:\n",
    "    os.system(\"pip3 install matplotlib --user\")\n",
    "    import matplotlib.pyplot as plt\n",
    "\n",
    "imagenes = 5\n",
    "resultado_total = {\"LL\" : [],\"LH\" : [],\"HL\" : [],\"HH\" : []}\n",
    "s = Sumando()\n",
    "imagen = 3\n",
    "for q_step in valores_q_step: \n",
    "    diccionario = {}\n",
    "    for tipo in tipos_cuantificacion:     \n",
    "        for banda in [\"LL\", \"LH\", \"HL\", \"HH\"]:\n",
    "            pesos = s.GetPesosSubbandas(str(tipo), str(q_step),banda,imagen)\n",
    "            MSE = 0.0\n",
    "            MSE += s.GetMSESubbanda(tipo,imagen,q_step,banda)\n",
    "            resultado_total[banda].append([pesos,MSE]) \n",
    "print(resultado_total)\n",
    "plt.figure()\n",
    "diccionario = resultado_total\n",
    "\n",
    "C = 4\n",
    "\n",
    "curve = [None]*C\n",
    "curve[0] = resultado_total[\"LL\"]\n",
    "curve[1] = resultado_total[\"LH\"]\n",
    "curve[2] = resultado_total[\"HL\"]\n",
    "curve[3] = resultado_total[\"HH\"]\n",
    "\n",
    "for c in range(4):\n",
    "    plt.scatter(*zip(*curve[c]))\n",
    "plt.show()\n",
    "\n",
    "for tipo in diccionario:\n",
    "    plot = plt.plot([i[0] for i in diccionario[tipo]],[i[1] for i in diccionario[tipo]],label=tipo)\n",
    "    #plt.legend(bbox_to_anchor=(1.05, 1), loc='upper', borderaxespad=0.)\n",
    "    plt.ylabel('Error')\n",
    "    plt.xlabel('Peso')\n",
    "    plt.title(tipo)\n",
    "    plt.show()\n",
    "    "
   ]
  },
  {
   "cell_type": "code",
   "execution_count": 20,
   "metadata": {},
   "outputs": [],
   "source": [
    "import numpy as np\n",
    "import matplotlib.pyplot as plt"
   ]
  },
  {
   "cell_type": "code",
   "execution_count": 21,
   "metadata": {},
   "outputs": [
    {
     "name": "stdout",
     "output_type": "stream",
     "text": [
      "{'LL': [[2456593.0, 6.53019036187066], [2349613.0, 20.5477779812283], [2331807.0, 30.651659138997395], [2181599.0, 207.23736267089845], [2165079.0, 238.4729678683811], [2130539.0, 441.51009894477], [2099700.0, 679.4840627034505], [2001104.0, 2774.7166629367402], [1974716.0, 3405.854334174262], [1936265.0, 9945.989212714301], [1935129.0, 10028.236135186089]], 'LH': [[2276373.0, 4.534849378797743], [2105227.0, 10.985757785373265], [2077266.0, 14.040610080295139], [2038614.0, 28.547782389322915], [2038037.0, 30.50743408203125], [2036234.0, 31.53858100043403], [2035873.0, 32.04040764702691], [2035716.0, 32.35353563096788], [2035716.0, 32.35353563096788], [2035716.0, 32.35353563096788], [2035716.0, 32.35353563096788]], 'HL': [[2188979.0, 4.72096930609809], [2062194.0, 8.99698248969184], [2050077.0, 10.333258734809029], [2038472.0, 13.346742078993056], [2038296.0, 13.462174818250869], [2038168.0, 13.540379842122396], [2038132.0, 13.578203667534723], [2038132.0, 13.578203667534723], [2038132.0, 13.578203667534723], [2038132.0, 13.578203667534723], [2038132.0, 13.578203667534723]], 'HH': [[2247047.0, 3.6603502061631943], [2244785.0, 3.762345377604167], [2244649.0, 3.773712158203125], [2244571.0, 3.788563707139757], [2244571.0, 3.788563707139757], [2244571.0, 3.788563707139757], [2244571.0, 3.788563707139757], [2244571.0, 3.788563707139757], [2244571.0, 3.788563707139757], [2244571.0, 3.788563707139757], [2244571.0, 3.788563707139757]]}\n"
     ]
    }
   ],
   "source": [
    "# Lists of operational RD (Rate/Distortion) points\n",
    "print(resultado_total)\n",
    "LL = resultado_total[\"LL\"]\n",
    "LH = resultado_total[\"LH\"]\n",
    "HL = resultado_total[\"HL\"]\n",
    "HH = resultado_total[\"HH\"]"
   ]
  },
  {
   "cell_type": "code",
   "execution_count": 22,
   "metadata": {},
   "outputs": [
    {
     "name": "stdout",
     "output_type": "stream",
     "text": [
      "[(0.00013102998335537148, 2349613.0, 'LL'), (0.0005674425001555147, 2331807.0, 'LL'), (0.0011756078473310414, 2181599.0, 'LL'), (0.0018907751330195304, 2165079.0, 'LL'), (0.005878318792020524, 2130539.0, 'LL'), (0.007716656303987824, 2099700.0, 'LL'), (0.02125068562855785, 2001104.0, 'LL'), (0.02391760160821289, 1974716.0, 'LL'), (0.17009011153260095, 1936265.0, 'LL'), (0.07240045992234852, 1935129.0, 'LL'), (3.769242872503898e-05, 2105227.0, 'LH'), (0.00010925404294988999, 2077266.0, 'LH'), (0.00037532785648938674, 2038614.0, 'LH'), (0.003396276763792607, 2038037.0, 'LH'), (0.0005719062220758621, 2036234.0, 'LH'), (0.0013901015141077058, 2035873.0, 'LH'), (0.0019944457575858145, 2035716.0, 'LH'), (nan, 2035716.0, 'LH'), (nan, 2035716.0, 'LH'), (nan, 2035716.0, 'LH'), (3.372649117477422e-05, 2062194.0, 'HL'), (0.0001102811129089039, 2050077.0, 'HL'), (0.0002596711197056465, 2038472.0, 'HL'), (0.0006558678366921165, 2038296.0, 'HL'), (0.0006109767489963086, 2038168.0, 'HL'), (0.0010506618170090674, 2038132.0, 'HL'), (nan, 2038132.0, 'HL'), (nan, 2038132.0, 'HL'), (nan, 2038132.0, 'HL'), (nan, 2038132.0, 'HL'), (4.509070355480663e-05, 2244785.0, 'HH'), (8.357926910998621e-05, 2244649.0, 'HH'), (0.0001904044735465625, 2244571.0, 'HH'), (nan, 2244571.0, 'HH'), (nan, 2244571.0, 'HH'), (nan, 2244571.0, 'HH'), (nan, 2244571.0, 'HH'), (nan, 2244571.0, 'HH'), (nan, 2244571.0, 'HH'), (nan, 2244571.0, 'HH')]\n"
     ]
    },
    {
     "name": "stderr",
     "output_type": "stream",
     "text": [
      "/home/ubuntu/.local/lib/python3.6/site-packages/ipykernel_launcher.py:7: RuntimeWarning: invalid value encountered in double_scalars\n",
      "  import sys\n"
     ]
    }
   ],
   "source": [
    "# Slopes of each pair of points\n",
    "total = []\n",
    "for sub in resultado_total:\n",
    "    slopes1 = [] \n",
    "    curve1 = resultado_total[sub]\n",
    "    for i in range(len(curve1)-1):\n",
    "        slope = (curve1[i][1]-curve1[i+1][1])/(curve1[i+1][0]-curve1[i][0])\n",
    "        slopes1.append((slope, curve1[i+1][0], sub))\n",
    "    total = total + slopes1\n",
    "print(total)"
   ]
  },
  {
   "cell_type": "code",
   "execution_count": 31,
   "metadata": {},
   "outputs": [
    {
     "name": "stdout",
     "output_type": "stream",
     "text": [
      "[(nan, 2244571.0, 'HH'), (nan, 2244571.0, 'HH'), (nan, 2244571.0, 'HH'), (nan, 2244571.0, 'HH'), (nan, 2244571.0, 'HH'), (nan, 2244571.0, 'HH'), (nan, 2244571.0, 'HH'), (nan, 2038132.0, 'HL'), (nan, 2038132.0, 'HL'), (nan, 2038132.0, 'HL'), (nan, 2038132.0, 'HL'), (nan, 2035716.0, 'LH'), (nan, 2035716.0, 'LH'), (nan, 2035716.0, 'LH'), (0.17009011153260095, 1936265.0, 'LL'), (0.07240045992234852, 1935129.0, 'LL'), (0.02391760160821289, 1974716.0, 'LL'), (0.02125068562855785, 2001104.0, 'LL'), (0.007716656303987824, 2099700.0, 'LL'), (0.005878318792020524, 2130539.0, 'LL'), (0.003396276763792607, 2038037.0, 'LH'), (0.0019944457575858145, 2035716.0, 'LH'), (0.0018907751330195304, 2165079.0, 'LL'), (0.0013901015141077058, 2035873.0, 'LH'), (0.0011756078473310414, 2181599.0, 'LL'), (0.0010506618170090674, 2038132.0, 'HL'), (0.0006558678366921165, 2038296.0, 'HL'), (0.0006109767489963086, 2038168.0, 'HL'), (0.0005719062220758621, 2036234.0, 'LH'), (0.0005674425001555147, 2331807.0, 'LL'), (0.00037532785648938674, 2038614.0, 'LH'), (0.0002596711197056465, 2038472.0, 'HL'), (0.0001904044735465625, 2244571.0, 'HH'), (0.00013102998335537148, 2349613.0, 'LL'), (0.0001102811129089039, 2050077.0, 'HL'), (0.00010925404294988999, 2077266.0, 'LH'), (8.357926910998621e-05, 2244649.0, 'HH'), (4.509070355480663e-05, 2244785.0, 'HH'), (3.769242872503898e-05, 2105227.0, 'LH'), (3.372649117477422e-05, 2062194.0, 'HL')]\n"
     ]
    }
   ],
   "source": [
    "sorted_lists = sorted(total, key=lambda tup: tup[0])[::-1]\n",
    "print(sorted_lists)"
   ]
  },
  {
   "cell_type": "markdown",
   "metadata": {},
   "source": [
    "### Optimal RD Points"
   ]
  },
  {
   "cell_type": "code",
   "execution_count": 34,
   "metadata": {},
   "outputs": [
    {
     "name": "stdout",
     "output_type": "stream",
     "text": [
      "Optimal RD points = [(nan, 2244571.0, 'HH'), (nan, 2244571.0, 'HH'), (nan, 2244571.0, 'HH'), (nan, 2244571.0, 'HH'), (nan, 2244571.0, 'HH'), (nan, 2244571.0, 'HH'), (nan, 2244571.0, 'HH'), (nan, 2038132.0, 'HL'), (nan, 2038132.0, 'HL'), (nan, 2038132.0, 'HL'), (nan, 2038132.0, 'HL'), (nan, 2035716.0, 'LH'), (nan, 2035716.0, 'LH'), (nan, 2035716.0, 'LH'), (0.17009011153260095, 1936265.0, 'LL'), (0.07240045992234852, 1935129.0, 'LL'), (0.02391760160821289, 1974716.0, 'LL'), (0.02125068562855785, 2001104.0, 'LL'), (0.007716656303987824, 2099700.0, 'LL')]\n",
      "bit-rate = 39918587.0\n"
     ]
    }
   ],
   "source": [
    "R = 40099800# Bit budget\n",
    "spent = 0\n",
    "i = 0\n",
    "optimal = []\n",
    "while True:\n",
    "    spent += sorted_lists[i][1]\n",
    "    if spent < R:\n",
    "        optimal.append(sorted_lists[i])\n",
    "    else:\n",
    "        break\n",
    "    i += 1\n",
    "print(\"Optimal RD points =\", optimal)\n",
    "br = sum([i[1] for i in optimal])\n",
    "print(\"bit-rate =\", br)"
   ]
  },
  {
   "cell_type": "code",
   "execution_count": null,
   "metadata": {},
   "outputs": [],
   "source": []
  }
 ],
 "metadata": {
  "kernelspec": {
   "display_name": "Python 3",
   "language": "python",
   "name": "python3"
  },
  "language_info": {
   "codemirror_mode": {
    "name": "ipython",
    "version": 3
   },
   "file_extension": ".py",
   "mimetype": "text/x-python",
   "name": "python",
   "nbconvert_exporter": "python",
   "pygments_lexer": "ipython3",
   "version": "3.6.9"
  }
 },
 "nbformat": 4,
 "nbformat_minor": 4
}
