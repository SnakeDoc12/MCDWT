{
 "cells": [
  {
   "cell_type": "code",
   "execution_count": null,
   "metadata": {},
   "outputs": [],
   "source": [
    "!sudo rm -r /tmp/*"
   ]
  },
  {
   "cell_type": "code",
   "execution_count": null,
   "metadata": {},
   "outputs": [],
   "source": [
    "q_step=32  \n",
    "predictor=2  \n",
    "valores_q_step = [8,16,20,55,60,220,512,1001] \n",
    "tipos_cuantificacion = [\"deadzone\",\"midrise\",\"midthreat\"]\n",
    "imagenes = 5\n",
    "\n",
    "for q_step in valores_q_step:\n",
    "    !mkdir /tmp/{q_step} && mkdir /tmp/{q_step}/original  &&  cp sequences/stockholm/* /tmp/{q_step}/original/   \n",
    "    !mkdir /tmp/{q_step}/mcdwt  && cp /tmp/{q_step}/original/* /tmp/{q_step}/mcdwt/  \n",
    "    !cd src/ && python3 -O MDWT.py -p /tmp/{q_step}/mcdwt/\n",
    "    !ls /tmp/{q_step}\n",
    "    !cd src/ && python3 -O MCDWT.py -P {predictor} -p /tmp/{q_step}/mcdwt/ \n",
    "    for tipo in tipos_cuantificacion:\n",
    "        !mkdir /tmp/{q_step}/{tipo}\n",
    "        for imagen in range(0,imagenes): \n",
    "            ii =\"{:03d}\".format(imagen)\n",
    "            !python3 tools/quantize.py -t {tipo} -i /tmp/{q_step}/mcdwt/LH{ii}.png -o /tmp/{q_step}/{tipo}/LH{ii}.png -q {q_step}  \n",
    "            !python3 tools/quantize.py -t {tipo} -i /tmp/{q_step}/mcdwt/HL{ii}.png -o /tmp/{q_step}/{tipo}/HL{ii}.png -q {q_step}   \n",
    "            !python3 tools/quantize.py -t {tipo} -i /tmp/{q_step}/mcdwt/HH{ii}.png -o /tmp/{q_step}/{tipo}/HH{ii}.png -q {q_step} \n",
    "            !python3 tools/quantize.py -t {tipo} -i /tmp/{q_step}/mcdwt/LL{ii}.png -o /tmp/{q_step}/{tipo}/LL{ii}.png -q {q_step} \n",
    "        !mkdir /tmp/{q_step}/{tipo}/inversas  &&  cp /tmp/{q_step}/{tipo}/* /tmp/{q_step}/{tipo}/inversas  \n",
    "        !cd src/ && python3 -O MCDWT.py -P {predictor} -p /tmp/{q_step}/{tipo}/inversas/ -b  \n",
    "        !cd src/ && python3 -O MDWT.py -p /tmp/{q_step}/{tipo}/inversas/ -b  "
   ]
  },
  {
   "cell_type": "code",
   "execution_count": null,
   "metadata": {},
   "outputs": [],
   "source": [
    "!cat suma.py"
   ]
  },
  {
   "cell_type": "code",
   "execution_count": null,
   "metadata": {
    "scrolled": true
   },
   "outputs": [],
   "source": [
    "from suma import Sumando\n",
    "try:\n",
    "    import matplotlib.pyplot as plt\n",
    "except:\n",
    "    os.system(\"pip3 install matplotlib --user\")\n",
    "    import matplotlib.pyplot as plt\n",
    "\n",
    "imagenes = 5\n",
    "valores_q_step = [8,16,20,55,60,220,512,1001] \n",
    "tipos_cuantificacion = [\"deadzone\",\"midrise\",\"midthreat\"]\n",
    "resultado_total = {\"deadzone\" : [] ,\"midrise\" : [],\"midthreat\":[]}\n",
    "s = Sumando()\n",
    "for q_step in valores_q_step: \n",
    "    diccionario = {}\n",
    "    for tipo in tipos_cuantificacion:        \n",
    "        pesos = s.GetPesos(str(tipo),q_step)\n",
    "        MSE_almacenado = 0.0\n",
    "        for imagen in range(0,imagenes):\n",
    "            MSE_almacenado+= s.GetMSE(tipo,imagen,q_step)\n",
    "        resultado_total[tipo].append([pesos,MSE_almacenado/imagenes]) \n",
    "\n",
    "print(resultado_total)\n",
    "plt.figure()\n",
    "diccionario = resultado_total\n",
    "for tipo in diccionario:\n",
    "    plot = plt.plot([i[0] for i in diccionario[tipo]],[i[1] for i in diccionario[tipo]],label=tipo)\n",
    "    #plt.legend(bbox_to_anchor=(1.05, 1), loc='upper', borderaxespad=0.)\n",
    "plt.ylabel('Error')\n",
    "plt.xlabel('Peso')\n",
    "plt.show()"
   ]
  },
  {
   "cell_type": "code",
   "execution_count": null,
   "metadata": {},
   "outputs": [],
   "source": [
    "from suma import Sumando\n",
    "s = Sumando()\n",
    "s.GetMSE(\"deadzone\",1,8)"
   ]
  },
  {
   "cell_type": "code",
   "execution_count": null,
   "metadata": {},
   "outputs": [],
   "source": [
    " !ls"
   ]
  },
  {
   "cell_type": "code",
   "execution_count": null,
   "metadata": {},
   "outputs": [],
   "source": [
    "\"\"\"\"\n",
    "!rm /tmp/*\n",
    "!cd /tmp/ && mkdir -p 8/{deadzone,midrise,midthreat,original,mcdwt,inversas}\n",
    "!cd /tmp/ && mkdir -p 16/{deadzone,midrise,midthreat,original,mcdwt,inversas}\n",
    "!cd /tmp/ && mkdir -p 32/{deadzone,midrise,midthreat,original,mcdwt,inversas}\n",
    "!cd /tmp/ && mkdir -p 64/{deadzone,midrise,midthreat,original,mcdwt,inversas}\n",
    "!cd /tmp/ && mkdir -p 128/{deadzone,midrise,midthreat,original,mcdwt,inversas}\n",
    "!cd /tmp/ && mkdir -p 256/{deadzone,midrise,midthreat,original,mcdwt,inversas}                     \n",
    "!cd /tmp/ && mkdir -p 512/{deadzone,midrise,midthreat,original,mcdwt,inversas}\n",
    "!cd /tmp/ && mkdir -p 700/{deadzone,midrise,midthreat,original,mcdwt,inversas}\n",
    "\"\"\"\"\"\""
   ]
  },
  {
   "cell_type": "code",
   "execution_count": null,
   "metadata": {},
   "outputs": [],
   "source": [
    " \"\"\"\"\n",
    "    !cp sequences/480/*.png /tmp\n",
    "!cd src/ && python3 cambiar.py\n",
    "!cd src/ && python3 -O MDWT.py -p /tmp/ -N 7\n",
    "!cd src/ && python3 -O MCDWT.py -P 1 -p /tmp/ -T 1 -N 6\n",
    "\"\"\""
   ]
  },
  {
   "cell_type": "code",
   "execution_count": null,
   "metadata": {},
   "outputs": [],
   "source": [
    "\"\"\"\"\n",
    "!ls\n",
    "!python3 script_general.py 7\n",
    "\"\"\""
   ]
  }
 ],
 "metadata": {
  "kernelspec": {
   "display_name": "Python 3",
   "language": "python",
   "name": "python3"
  },
  "language_info": {
   "codemirror_mode": {
    "name": "ipython",
    "version": 3
   },
   "file_extension": ".py",
   "mimetype": "text/x-python",
   "name": "python",
   "nbconvert_exporter": "python",
   "pygments_lexer": "ipython3",
   "version": "3.6.9"
  }
 },
 "nbformat": 4,
 "nbformat_minor": 4
}
