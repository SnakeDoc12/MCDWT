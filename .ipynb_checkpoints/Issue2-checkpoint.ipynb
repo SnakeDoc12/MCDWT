{
 "cells": [
  {
   "cell_type": "code",
   "execution_count": 1,
   "metadata": {},
   "outputs": [
    {
     "name": "stdout",
     "output_type": "stream",
     "text": [
      "Finalizado\n"
     ]
    }
   ],
   "source": [
    "!sudo rm -r /tmp/*\n",
    "print(\"Finalizado\")"
   ]
  },
  {
   "cell_type": "code",
   "execution_count": 2,
   "metadata": {},
   "outputs": [
    {
     "name": "stdout",
     "output_type": "stream",
     "text": [
      "A ver si muestra algo \n"
     ]
    }
   ],
   "source": [
    "print(\"A ver si muestra algo \")"
   ]
  },
  {
   "cell_type": "code",
   "execution_count": 3,
   "metadata": {},
   "outputs": [
    {
     "name": "stdout",
     "output_type": "stream",
     "text": [
      "Repositorio vacío\n",
      "Entra en el bucle\n",
      "mcdwt  original\n",
      "Quantizing with step 8\n",
      "Quantizing with step 8\n",
      "Quantizing with step 8\n",
      "Quantizing with step 8\n",
      "Quantizing with step 8\n",
      "Quantizing with step 8\n",
      "Quantizing with step 8\n",
      "Quantizing with step 8\n",
      "Quantizing with step 8\n",
      "Quantizing with step 8\n",
      "Quantizing with step 8\n",
      "Quantizing with step 8\n",
      "Quantizing with step 8\n",
      "Quantizing with step 8\n",
      "Quantizing with step 8\n",
      "Quantizing with step 8\n",
      "Quantizing with step 8\n",
      "Quantizing with step 8\n",
      "Quantizing with step 8\n",
      "Quantizing with step 8\n",
      "cp: -r not specified; omitting directory '/tmp/8/deadzone/inversas'\n",
      "Quantizing with step 8\n",
      "Quantizing with step 8\n",
      "Quantizing with step 8\n",
      "Quantizing with step 8\n",
      "Quantizing with step 8\n",
      "Quantizing with step 8\n",
      "Quantizing with step 8\n",
      "Quantizing with step 8\n",
      "Quantizing with step 8\n",
      "Quantizing with step 8\n",
      "Quantizing with step 8\n",
      "Quantizing with step 8\n",
      "Quantizing with step 8\n",
      "Quantizing with step 8\n",
      "Quantizing with step 8\n",
      "Quantizing with step 8\n",
      "Quantizing with step 8\n",
      "Quantizing with step 8\n",
      "Quantizing with step 8\n",
      "Quantizing with step 8\n",
      "cp: -r not specified; omitting directory '/tmp/8/midrise/inversas'\n",
      "Quantizing with step 8\n",
      "Quantizing with step 8\n",
      "Quantizing with step 8\n",
      "Quantizing with step 8\n",
      "Quantizing with step 8\n",
      "Quantizing with step 8\n",
      "Quantizing with step 8\n",
      "Quantizing with step 8\n",
      "Quantizing with step 8\n",
      "Quantizing with step 8\n",
      "Quantizing with step 8\n",
      "Quantizing with step 8\n",
      "Quantizing with step 8\n",
      "Quantizing with step 8\n",
      "Quantizing with step 8\n",
      "Quantizing with step 8\n",
      "Quantizing with step 8\n",
      "Quantizing with step 8\n",
      "Quantizing with step 8\n",
      "Quantizing with step 8\n",
      "cp: -r not specified; omitting directory '/tmp/8/midthreat/inversas'\n"
     ]
    }
   ],
   "source": [
    "q_step=32  \n",
    "predictor=2  \n",
    "valores_q_step = [8,16] \n",
    "tipos_cuantificacion = [\"deadzone\",\"midrise\",\"midthreat\"]\n",
    "imagenes = 5\n",
    "\n",
    "print(\"Repositorio vacío\")\n",
    "for q_step in valores_q_step:\n",
    "    print(\"Entra en el bucle\")\n",
    "    !mkdir /tmp/{q_step} && mkdir /tmp/{q_step}/original  &&  cp sequences/stockholm/* /tmp/{q_step}/original/   \n",
    "    !mkdir /tmp/{q_step}/mcdwt  && cp /tmp/{q_step}/original/* /tmp/{q_step}/mcdwt/  \n",
    "    !cd src/ && python3 -O MDWT.py -p /tmp/{q_step}/mcdwt/\n",
    "    !ls /tmp/{q_step}\n",
    "    !cd src/ && python3 -O MCDWT.py -P {predictor} -p /tmp/{q_step}/mcdwt/ \n",
    "    for tipo in tipos_cuantificacion:\n",
    "        !mkdir /tmp/{q_step}/{tipo}\n",
    "        for imagen in range(0,imagenes): \n",
    "            ii =\"{:03d}\".format(imagen)\n",
    "            !python3 tools/quantize.py -t {tipo} -i /tmp/{q_step}/mcdwt/LH{ii}.png -o /tmp/{q_step}/{tipo}/LH{ii}.png -q $q_step  \n",
    "            !python3 tools/quantize.py -t {tipo} -i /tmp/{q_step}/mcdwt/HL{ii}.png -o /tmp/{q_step}/{tipo}/HL{ii}.png -q $q_step  \n",
    "            !python3 tools/quantize.py -t {tipo} -i /tmp/{q_step}/mcdwt/HH{ii}.png -o /tmp/{q_step}/{tipo}/HH{ii}.png -q $q_step\n",
    "            !python3 tools/quantize.py -t {tipo} -i /tmp/{q_step}/mcdwt/LL{ii}.png -o /tmp/{q_step}/{tipo}/LL{ii}.png -q $q_step\n",
    "        !mkdir /tmp/{q_step}/{tipo}/inversas  &&  cp /tmp/{q_step}/{tipo}/* /tmp/{q_step}/{tipo}/inversas  \n",
    "        !cd src/ && python3 -O MCDWT.py -P {predictor} -p /tmp/{q_step}/{tipo}/inversas/ -b  \n",
    "        !cd src/ && python3 -O MDWT.py -p /tmp/{q_step}/{tipo}/inversas/ -b  "
   ]
  },
  {
   "cell_type": "code",
   "execution_count": 4,
   "metadata": {},
   "outputs": [
    {
     "name": "stdout",
     "output_type": "stream",
     "text": [
      "import os\r",
      "\r\n",
      "import sys\r",
      "\r\n",
      "import math\r",
      "\r\n",
      "try:\r",
      "\r\n",
      "    import cv2\r",
      "\r\n",
      "except:\r",
      "\r\n",
      "    os.system(\"pip3 install opencv-python --user\")\r",
      "\r\n",
      "try:\r",
      "\r\n",
      "    import numpy as np\r",
      "\r\n",
      "except:\r",
      "\r\n",
      "    os.system(\"pip3 install numpy --user\")\r",
      "\r\n",
      "\r",
      "\r\n",
      "import argparse\r",
      "\r\n",
      "\r",
      "\r\n",
      "try:\r",
      "\r\n",
      "    import skimage.metrics\r",
      "\r\n",
      "except:\r",
      "\r\n",
      "    os.system(\"pip3 install scikit-image --user\")\r",
      "\r\n",
      "\r",
      "\r\n",
      "try:\r",
      "\r\n",
      "    import scipy\r",
      "\r\n",
      "    from scipy import stats\r",
      "\r\n",
      "except:\r",
      "\r\n",
      "    os.system(\"pip3 install scipy --user\")\r",
      "\r\n",
      "\r",
      "\r\n",
      "class Sumando():\r",
      "\r\n",
      "    def __init__(self):\r",
      "\r\n",
      "        print(\"Hola, esto es el constructor \")       \r",
      "\r\n",
      "    def calcularMSE(self,original,cuantificada):\r",
      "\r\n",
      "        x = cv2.imread(original, -1)\r",
      "\r\n",
      "        y = cv2.imread(cuantificada, -1)\r",
      "\r\n",
      "        MSE = skimage.metrics.mean_squared_error(x, y)\r",
      "\r\n",
      "        return MSE\r",
      "\r\n",
      "    def GetPesos(self,cuantificador, q):\r",
      "\r\n",
      "        total = os.stat(\"/tmp/\"+str(q)+\"/\"+str(cuantificador)+\"/\").st_size\r",
      "\r\n",
      "        return total\r",
      "\r\n",
      "    def GetMSE(self,cuantificador,imagen,q=8):\r",
      "\r\n",
      "        cuantizada = \"/tmp/\"+str(q)+\"/\"+cuantificador+\"/inversas/\"+\"{:03d}\".format(imagen)+\".png\"\r",
      "\r\n",
      "        original = \"/tmp/\"+str(q)+\"/original/\"+\"{:03d}\".format(imagen)+\".png\"\r",
      "\r\n",
      "        x = cv2.imread(original, -1)\r",
      "\r\n",
      "        y = cv2.imread(cuantizada, -1)\r",
      "\r\n",
      "        MSE = skimage.metrics.mean_squared_error(x, y)\r",
      "\r\n",
      "        return MSE\r",
      "\r\n",
      "    def AddSizes(path = \"/tmp/\", N = 5):\r",
      "\r\n",
      "        tamanoTotal = 0.0\r",
      "\r\n",
      "        tamanoTotalNuevo = 0.0 \r",
      "\r\n",
      "        for i in range(N):            \r",
      "\r\n",
      "            path_archivo_normal = os.path.join(path,\"{:03d}\".format(i)+\".png\")\r",
      "\r\n",
      "            path_archivo_reducido = os.path.join(path,\"LL{:03d}\".format(i)+\".png\")\r",
      "\r\n",
      "            tamanoTotalNuevo += os.stat(path_archivo_reducido).st_size\r",
      "\r\n",
      "            path_archivo_reducido = os.path.join(path,\"LH{:03d}\".format(i)+\".png\")\r",
      "\r\n",
      "            tamanoTotalNuevo += os.stat(path_archivo_reducido).st_size\r",
      "\r\n",
      "            path_archivo_reducido = os.path.join(path,\"HL{:03d}\".format(i)+\".png\")\r",
      "\r\n",
      "            tamanoTotalNuevo += os.stat(path_archivo_reducido).st_size\r",
      "\r\n",
      "            path_archivo_reducido = os.path.join(path,\"HH{:03d}\".format(i)+\".png\")\r",
      "\r\n",
      "            tamanoTotal += os.stat(path_archivo_normal).st_size\r",
      "\r\n",
      "            tamanoTotalNuevo += os.stat(path_archivo_reducido).st_size\r",
      "\r\n",
      "        print(\"Original \" + str(tamanoTotal))\r",
      "\r\n",
      "        print(\"Nuevo \" + str(tamanoTotalNuevo))\r",
      "\r\n",
      "        print(\"Ratio de compresion \" + \"{0:.5f}\".format(tamanoTotal/tamanoTotalNuevo))\r",
      "\r\n",
      "        \"\"\"\r",
      "\r\n",
      "    if __name__ ==\"__main__\":\r",
      "\r\n",
      "            if len(sys.argv) < 2:\r",
      "\r\n",
      "                AddSizes()\r",
      "\r\n",
      "            elif len(sys.argv) == 2:\r",
      "\r\n",
      "                AddSizes(N=int(sys.argv[1]))            \r",
      "\r\n",
      "            else:\r",
      "\r\n",
      "                AddSizes(sys.argv[1],int(sys.argv[2]))\r",
      "\r\n",
      "                \"\"\"\r",
      "\r\n"
     ]
    }
   ],
   "source": [
    "!cat suma.py"
   ]
  },
  {
   "cell_type": "code",
   "execution_count": 9,
   "metadata": {},
   "outputs": [
    {
     "name": "stdout",
     "output_type": "stream",
     "text": [
      "Hola, esto es el constructor \n",
      "{'deadzone': [[4096, 18.08641438802083]], 'midrise': [[4096, 18.08641438802083]], 'midthreat': [[4096, 18.08641438802083]]}\n"
     ]
    },
    {
     "data": {
      "image/png": "[encoded data removed]",
      "text/plain": [
       "<Figure size 432x288 with 1 Axes>"
      ]
     },
     "metadata": {
      "needs_background": "light"
     },
     "output_type": "display_data"
    }
   ],
   "source": [
    "from suma import Sumando\n",
    "try:\n",
    "    import matplotlib.pyplot as plt\n",
    "except:\n",
    "    os.system(\"pip3 install matplotlib --user\")\n",
    "    import matplotlib.pyplot as plt\n",
    "\n",
    "imagenes = 5\n",
    "valores_q_step = [8,16] \n",
    "tipos_cuantificacion = [\"deadzone\",\"midrise\",\"midthreat\"]\n",
    "resultado_total = {\"deadzone\" : [] ,\"midrise\" : [],\"midthreat\":[]}\n",
    "s = Sumando()\n",
    "for q_step in valores_q_step: \n",
    "    diccionario = {}\n",
    "    for tipo in tipos_cuantificacion:        \n",
    "        pesos = s.GetPesos(str(tipo),q_step)\n",
    "        MSE_almacenado = 0.0\n",
    "        for imagen in range(0,imagenes):\n",
    "            MSE_almacenado+= s.GetMSE(tipo,imagen,q_step)\n",
    "        resultado_total[tipo].append([pesos,MSE_almacenado/imagenes]) \n",
    "\n",
    "print(resultado_total)\n",
    "plt.figure()\n",
    "diccionario = resultado_total\n",
    "for tipo in diccionario:\n",
    "    plot = plt.plot([i[0] for i in diccionario[tipo]],[i[1] for i in diccionario[tipo]],label=tipo)\n",
    "    #plt.legend(bbox_to_anchor=(1.05, 1), loc='upper', borderaxespad=0.)\n",
    "plt.ylabel('Error')\n",
    "plt.xlabel('Peso')\n",
    "plt.show()"
   ]
  },
  {
   "cell_type": "code",
   "execution_count": null,
   "metadata": {},
   "outputs": [],
   "source": [
    "from suma import Sumando\n",
    "s = Sumando()\n",
    "s.GetMSE(\"deadzone\",1,8)"
   ]
  },
  {
   "cell_type": "code",
   "execution_count": null,
   "metadata": {},
   "outputs": [],
   "source": [
    " "
   ]
  },
  {
   "cell_type": "code",
   "execution_count": null,
   "metadata": {},
   "outputs": [],
   "source": [
    "\"\"\"\"\n",
    "!rm /tmp/*\n",
    "!cd /tmp/ && mkdir -p 8/{deadzone,midrise,midthreat,original,mcdwt,inversas}\n",
    "!cd /tmp/ && mkdir -p 16/{deadzone,midrise,midthreat,original,mcdwt,inversas}\n",
    "!cd /tmp/ && mkdir -p 32/{deadzone,midrise,midthreat,original,mcdwt,inversas}\n",
    "!cd /tmp/ && mkdir -p 64/{deadzone,midrise,midthreat,original,mcdwt,inversas}\n",
    "!cd /tmp/ && mkdir -p 128/{deadzone,midrise,midthreat,original,mcdwt,inversas}\n",
    "!cd /tmp/ && mkdir -p 256/{deadzone,midrise,midthreat,original,mcdwt,inversas}                     \n",
    "!cd /tmp/ && mkdir -p 512/{deadzone,midrise,midthreat,original,mcdwt,inversas}\n",
    "!cd /tmp/ && mkdir -p 700/{deadzone,midrise,midthreat,original,mcdwt,inversas}\n",
    "\"\"\"\"\"\""
   ]
  },
  {
   "cell_type": "code",
   "execution_count": null,
   "metadata": {},
   "outputs": [],
   "source": [
    " \"\"\"\"\n",
    "    !cp sequences/480/*.png /tmp\n",
    "!cd src/ && python3 cambiar.py\n",
    "!cd src/ && python3 -O MDWT.py -p /tmp/ -N 7\n",
    "!cd src/ && python3 -O MCDWT.py -P 1 -p /tmp/ -T 1 -N 6\n",
    "\"\"\""
   ]
  },
  {
   "cell_type": "code",
   "execution_count": null,
   "metadata": {},
   "outputs": [],
   "source": [
    "\"\"\"\"\n",
    "!ls\n",
    "!python3 script_general.py 7\n",
    "\"\"\""
   ]
  }
 ],
 "metadata": {
  "kernelspec": {
   "display_name": "Python 3",
   "language": "python",
   "name": "python3"
  },
  "language_info": {
   "codemirror_mode": {
    "name": "ipython",
    "version": 3
   },
   "file_extension": ".py",
   "mimetype": "text/x-python",
   "name": "python",
   "nbconvert_exporter": "python",
   "pygments_lexer": "ipython3",
   "version": "3.6.9"
  }
 },
 "nbformat": 4,
 "nbformat_minor": 4
}
