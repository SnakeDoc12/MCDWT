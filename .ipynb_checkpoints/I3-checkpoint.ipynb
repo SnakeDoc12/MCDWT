{
 "cells": [
  {
   "cell_type": "code",
   "execution_count": 1,
   "metadata": {},
   "outputs": [],
   "source": [
    "!sudo rm -r /tmp/*"
   ]
  },
  {
   "cell_type": "code",
   "execution_count": 2,
   "metadata": {},
   "outputs": [],
   "source": [
    "bandas = [\"LL\",\"LH\",\"HL\",\"HH\"]\n",
    "imagen =\"{:03d}\".format(2)\n",
    "valores_q_step = [8,16,20,55,60,80,100,200,300,512,1028] \n",
    "tipos_cuantificacion = [\"midrise\"]"
   ]
  },
  {
   "cell_type": "code",
   "execution_count": 3,
   "metadata": {},
   "outputs": [
    {
     "name": "stdout",
     "output_type": "stream",
     "text": [
      "002.png  HH002.png  HL002.png  LH002.png  LL002.png\n",
      "Step : 8\n",
      "Banda : LL\n",
      "cp: -r not specified; omitting directory '/tmp/8/midrise/LL/inversas'\n",
      "Banda : LH\n",
      "cp: -r not specified; omitting directory '/tmp/8/midrise/LH/inversas'\n",
      "Banda : HL\n",
      "cp: -r not specified; omitting directory '/tmp/8/midrise/HL/inversas'\n",
      "Banda : HH\n",
      "cp: -r not specified; omitting directory '/tmp/8/midrise/HH/inversas'\n",
      "002.png  HH002.png  HL002.png  LH002.png  LL002.png\n",
      "Step : 16\n",
      "Banda : LL\n",
      "cp: -r not specified; omitting directory '/tmp/16/midrise/LL/inversas'\n",
      "Banda : LH\n",
      "cp: -r not specified; omitting directory '/tmp/16/midrise/LH/inversas'\n",
      "Banda : HL\n",
      "cp: -r not specified; omitting directory '/tmp/16/midrise/HL/inversas'\n",
      "Banda : HH\n",
      "cp: -r not specified; omitting directory '/tmp/16/midrise/HH/inversas'\n",
      "002.png  HH002.png  HL002.png  LH002.png  LL002.png\n",
      "Step : 20\n",
      "Banda : LL\n",
      "cp: -r not specified; omitting directory '/tmp/20/midrise/LL/inversas'\n",
      "Banda : LH\n",
      "cp: -r not specified; omitting directory '/tmp/20/midrise/LH/inversas'\n",
      "Banda : HL\n",
      "cp: -r not specified; omitting directory '/tmp/20/midrise/HL/inversas'\n",
      "Banda : HH\n",
      "cp: -r not specified; omitting directory '/tmp/20/midrise/HH/inversas'\n",
      "002.png  HH002.png  HL002.png  LH002.png  LL002.png\n",
      "Step : 55\n",
      "Banda : LL\n",
      "cp: -r not specified; omitting directory '/tmp/55/midrise/LL/inversas'\n",
      "Banda : LH\n",
      "cp: -r not specified; omitting directory '/tmp/55/midrise/LH/inversas'\n",
      "Banda : HL\n",
      "cp: -r not specified; omitting directory '/tmp/55/midrise/HL/inversas'\n",
      "Banda : HH\n",
      "cp: -r not specified; omitting directory '/tmp/55/midrise/HH/inversas'\n",
      "002.png  HH002.png  HL002.png  LH002.png  LL002.png\n",
      "Step : 60\n",
      "Banda : LL\n",
      "cp: -r not specified; omitting directory '/tmp/60/midrise/LL/inversas'\n",
      "Banda : LH\n",
      "cp: -r not specified; omitting directory '/tmp/60/midrise/LH/inversas'\n",
      "Banda : HL\n",
      "cp: -r not specified; omitting directory '/tmp/60/midrise/HL/inversas'\n",
      "Banda : HH\n",
      "cp: -r not specified; omitting directory '/tmp/60/midrise/HH/inversas'\n",
      "002.png  HH002.png  HL002.png  LH002.png  LL002.png\n",
      "Step : 80\n",
      "Banda : LL\n",
      "cp: -r not specified; omitting directory '/tmp/80/midrise/LL/inversas'\n",
      "Banda : LH\n",
      "cp: -r not specified; omitting directory '/tmp/80/midrise/LH/inversas'\n",
      "Banda : HL\n",
      "cp: -r not specified; omitting directory '/tmp/80/midrise/HL/inversas'\n",
      "Banda : HH\n",
      "cp: -r not specified; omitting directory '/tmp/80/midrise/HH/inversas'\n",
      "002.png  HH002.png  HL002.png  LH002.png  LL002.png\n",
      "Step : 100\n",
      "Banda : LL\n",
      "cp: -r not specified; omitting directory '/tmp/100/midrise/LL/inversas'\n",
      "Banda : LH\n",
      "cp: -r not specified; omitting directory '/tmp/100/midrise/LH/inversas'\n",
      "Banda : HL\n",
      "cp: -r not specified; omitting directory '/tmp/100/midrise/HL/inversas'\n",
      "Banda : HH\n",
      "cp: -r not specified; omitting directory '/tmp/100/midrise/HH/inversas'\n",
      "002.png  HH002.png  HL002.png  LH002.png  LL002.png\n",
      "Step : 200\n",
      "Banda : LL\n",
      "cp: -r not specified; omitting directory '/tmp/200/midrise/LL/inversas'\n",
      "Banda : LH\n",
      "cp: -r not specified; omitting directory '/tmp/200/midrise/LH/inversas'\n",
      "Banda : HL\n",
      "cp: -r not specified; omitting directory '/tmp/200/midrise/HL/inversas'\n",
      "Banda : HH\n",
      "cp: -r not specified; omitting directory '/tmp/200/midrise/HH/inversas'\n",
      "002.png  HH002.png  HL002.png  LH002.png  LL002.png\n",
      "Step : 300\n",
      "Banda : LL\n",
      "cp: -r not specified; omitting directory '/tmp/300/midrise/LL/inversas'\n",
      "Banda : LH\n",
      "cp: -r not specified; omitting directory '/tmp/300/midrise/LH/inversas'\n",
      "Banda : HL\n",
      "cp: -r not specified; omitting directory '/tmp/300/midrise/HL/inversas'\n",
      "Banda : HH\n",
      "cp: -r not specified; omitting directory '/tmp/300/midrise/HH/inversas'\n",
      "002.png  HH002.png  HL002.png  LH002.png  LL002.png\n",
      "Step : 512\n",
      "Banda : LL\n",
      "cp: -r not specified; omitting directory '/tmp/512/midrise/LL/inversas'\n",
      "Banda : LH\n",
      "cp: -r not specified; omitting directory '/tmp/512/midrise/LH/inversas'\n",
      "Banda : HL\n",
      "cp: -r not specified; omitting directory '/tmp/512/midrise/HL/inversas'\n",
      "Banda : HH\n",
      "cp: -r not specified; omitting directory '/tmp/512/midrise/HH/inversas'\n",
      "002.png  HH002.png  HL002.png  LH002.png  LL002.png\n",
      "Step : 1028\n",
      "Banda : LL\n",
      "cp: -r not specified; omitting directory '/tmp/1028/midrise/LL/inversas'\n",
      "Banda : LH\n",
      "cp: -r not specified; omitting directory '/tmp/1028/midrise/LH/inversas'\n",
      "Banda : HL\n",
      "cp: -r not specified; omitting directory '/tmp/1028/midrise/HL/inversas'\n",
      "Banda : HH\n",
      "cp: -r not specified; omitting directory '/tmp/1028/midrise/HH/inversas'\n"
     ]
    }
   ],
   "source": [
    "q_step=32  \n",
    "predictor=2  \n",
    "\n",
    "for q_step in valores_q_step:\n",
    "    !mkdir /tmp/{q_step} && mkdir /tmp/{q_step}/original  &&  cp sequences/480/procesado/{imagen}.png /tmp/{q_step}/original/   \n",
    "    !mkdir /tmp/{q_step}/dwt  && cp /tmp/{q_step}/original/* /tmp/{q_step}/dwt/  \n",
    "    !cd src/ && python3 -O DWT.py -p /tmp/{q_step}/dwt/ -i {imagen}\n",
    "    !ls /tmp/{q_step}/dwt/\n",
    "    for tipo in tipos_cuantificacion:\n",
    "        !mkdir /tmp/{q_step}/{tipo} \n",
    "        print(\"Step : \"+str(q_step))\n",
    "        for banda in bandas: \n",
    "            print(\"Banda : \"+str(banda))\n",
    "            !mkdir /tmp/{q_step}/{tipo}/{banda}\n",
    "            !cp /tmp/{q_step}/dwt/*.png /tmp/{q_step}/{tipo}/{banda}\n",
    "            !rm -r /tmp/{q_step}/{tipo}/{banda}/{banda}{imagen}.png\n",
    "            !python3 tools/quantize.py -t {tipo} -i /tmp/{q_step}/dwt/{banda}{imagen}.png -o /tmp/{q_step}/{tipo}/{banda}/{banda}{imagen}.png -q {q_step}  \n",
    "            !mkdir /tmp/{q_step}/{tipo}/{banda}/inversas  &&  cp /tmp/{q_step}/{tipo}/{banda}/* /tmp/{q_step}/{tipo}/{banda}/inversas  \n",
    "            !cd src/ && python3 -O DWT.py -p /tmp/{q_step}/{tipo}/{banda}/inversas/ -b  -i {imagen}"
   ]
  },
  {
   "cell_type": "code",
   "execution_count": 4,
   "metadata": {},
   "outputs": [
    {
     "name": "stdout",
     "output_type": "stream",
     "text": [
      "import os\r",
      "\r\n",
      "import sys\r",
      "\r\n",
      "import math\r",
      "\r\n",
      "try:\r",
      "\r\n",
      "    import cv2\r",
      "\r\n",
      "except:\r",
      "\r\n",
      "    os.system(\"pip3 install opencv-python --user\")\r",
      "\r\n",
      "try:\r",
      "\r\n",
      "    import numpy as np\r",
      "\r\n",
      "except:\r",
      "\r\n",
      "    os.system(\"pip3 install numpy --user\")\r",
      "\r\n",
      "\r",
      "\r\n",
      "import argparse\r",
      "\r\n",
      "\r",
      "\r\n",
      "try:\r",
      "\r\n",
      "    import skimage.metrics\r",
      "\r\n",
      "except:\r",
      "\r\n",
      "    os.system(\"pip3 install scikit-image --user\")\r",
      "\r\n",
      "\r",
      "\r\n",
      "try:\r",
      "\r\n",
      "    import scipy\r",
      "\r\n",
      "    from scipy import stats\r",
      "\r\n",
      "except:\r",
      "\r\n",
      "    os.system(\"pip3 install scipy --user\")\r",
      "\r\n",
      "\r",
      "\r\n",
      "class Sumando():\r",
      "\r\n",
      "    def __init__(self):\r",
      "\r\n",
      "        print(\"\")       \r",
      "\r\n",
      "    def calcularMSE(self,original,cuantificada):\r",
      "\r\n",
      "        x = cv2.imread(original, -1)\r",
      "\r\n",
      "        y = cv2.imread(cuantificada, -1)\r",
      "\r\n",
      "        MSE = skimage.metrics.mean_squared_error(x, y)\r",
      "\r\n",
      "        return MSE\r",
      "\r\n",
      "    def GetPesos(self,cuantificador, q):\r",
      "\r\n",
      "        path = \"/tmp/\"+str(q)+\"/\"+str(cuantificador) + \"/\"\r",
      "\r\n",
      "        tamanoTotalNuevo = 0.0\r",
      "\r\n",
      "        for i in range(5):\r",
      "\r\n",
      "            path_archivo_reducido = os.path.join(path,\"LL{:03d}\".format(i)+\".png\")\r",
      "\r\n",
      "            tamanoTotalNuevo += os.stat(path_archivo_reducido).st_size\r",
      "\r\n",
      "            path_archivo_reducido = os.path.join(path,\"LH{:03d}\".format(i)+\".png\")\r",
      "\r\n",
      "            tamanoTotalNuevo += os.stat(path_archivo_reducido).st_size\r",
      "\r\n",
      "            path_archivo_reducido = os.path.join(path,\"HL{:03d}\".format(i)+\".png\")\r",
      "\r\n",
      "            tamanoTotalNuevo += os.stat(path_archivo_reducido).st_size\r",
      "\r\n",
      "            path_archivo_reducido = os.path.join(path,\"HH{:03d}\".format(i)+\".png\")\r",
      "\r\n",
      "            tamanoTotalNuevo += os.stat(path_archivo_reducido).st_size\r",
      "\r\n",
      "        return tamanoTotalNuevo\r",
      "\r\n",
      "    def GetPesosSubbandas(self,cuantificador, q,banda,imagen):\r",
      "\r\n",
      "        path = \"/tmp/\"+str(q)+\"/\"+cuantificador+\"/\"+banda+\"/\"\t\r",
      "\r\n",
      "        tamanoTotalNuevo = 0.0\r",
      "\r\n",
      "        for i in range(5):\r",
      "\r\n",
      "            path_archivo_reducido = os.path.join(path,\"LL{:03d}\".format(imagen)+\".png\")\r",
      "\r\n",
      "            tamanoTotalNuevo += os.stat(path_archivo_reducido).st_size\r",
      "\r\n",
      "            path_archivo_reducido = os.path.join(path,\"LH{:03d}\".format(imagen)+\".png\")\r",
      "\r\n",
      "            tamanoTotalNuevo += os.stat(path_archivo_reducido).st_size\r",
      "\r\n",
      "            path_archivo_reducido = os.path.join(path,\"HL{:03d}\".format(imagen)+\".png\")\r",
      "\r\n",
      "            tamanoTotalNuevo += os.stat(path_archivo_reducido).st_size\r",
      "\r\n",
      "            path_archivo_reducido = os.path.join(path,\"HH{:03d}\".format(imagen)+\".png\")\r",
      "\r\n",
      "            tamanoTotalNuevo += os.stat(path_archivo_reducido).st_size\r",
      "\r\n",
      "        return tamanoTotalNuevo\r",
      "\r\n",
      "    def GetMSE(self,cuantificador,imagen,q):\r",
      "\r\n",
      "        cuantizada = \"/tmp/\"+str(q)+\"/\"+cuantificador+\"/inversas/\"+\"{:03d}\".format(imagen)+\".png\"\r",
      "\r\n",
      "        original = \"/tmp/\"+str(q)+\"/original/\"+\"{:03d}\".format(imagen)+\".png\"\r",
      "\r\n",
      "        x = cv2.imread(original, -1)\r",
      "\r\n",
      "        y = cv2.imread(cuantizada, -1)\r",
      "\r\n",
      "        MSE = skimage.metrics.mean_squared_error(x, y)\r",
      "\r\n",
      "        return MSE\r",
      "\r\n",
      "    def GetMSESubbanda(self,cuantificador,imagen,q,banda):\r",
      "\r\n",
      "        cuantizada = \"/tmp/\"+str(q)+\"/\"+cuantificador+\"/\"+banda+\"/inversas/\"+\"{:03d}\".format(imagen)+\".png\"\r",
      "\r\n",
      "        original = \"/tmp/\"+str(q)+\"/original/\"+\"{:03d}\".format(imagen)+\".png\"\r",
      "\r\n",
      "        x = cv2.imread(original, -1)\r",
      "\r\n",
      "        y = cv2.imread(cuantizada, -1)\r",
      "\r\n",
      "        MSE = skimage.metrics.mean_squared_error(x, y)\r",
      "\r\n",
      "        return MSE\r",
      "\r\n",
      "    def AddSizes(path = \"/tmp/\", N = 5):\r",
      "\r\n",
      "        tamanoTotal = 0.0\r",
      "\r\n",
      "        tamanoTotalNuevo = 0.0 \r",
      "\r\n",
      "        for i in range(N):            \r",
      "\r\n",
      "            path_archivo_normal = os.path.join(path,\"{:03d}\".format(i)+\".png\")\r",
      "\r\n",
      "            path_archivo_reducido = os.path.join(path,\"LL{:03d}\".format(i)+\".png\")\r",
      "\r\n",
      "            tamanoTotalNuevo += os.stat(path_archivo_reducido).st_size\r",
      "\r\n",
      "            path_archivo_reducido = os.path.join(path,\"LH{:03d}\".format(i)+\".png\")\r",
      "\r\n",
      "            tamanoTotalNuevo += os.stat(path_archivo_reducido).st_size\r",
      "\r\n",
      "            path_archivo_reducido = os.path.join(path,\"HL{:03d}\".format(i)+\".png\")\r",
      "\r\n",
      "            tamanoTotalNuevo += os.stat(path_archivo_reducido).st_size\r",
      "\r\n",
      "            path_archivo_reducido = os.path.join(path,\"HH{:03d}\".format(i)+\".png\")\r",
      "\r\n",
      "            tamanoTotal += os.stat(path_archivo_normal).st_size\r",
      "\r\n",
      "            tamanoTotalNuevo += os.stat(path_archivo_reducido).st_size\r",
      "\r\n",
      "        \"\"\"\r",
      "\r\n",
      "    if __name__ ==\"__main__\":\r",
      "\r\n",
      "            if len(sys.argv) < 2:\r",
      "\r\n",
      "                AddSizes()\r",
      "\r\n",
      "            elif len(sys.argv) == 2:\r",
      "\r\n",
      "                AddSizes(N=int(sys.argv[1]))            \r",
      "\r\n",
      "            else:\r",
      "\r\n",
      "                AddSizes(sys.argv[1],int(sys.argv[2]))\r",
      "\r\n",
      "                \"\"\"\r",
      "\r\n"
     ]
    }
   ],
   "source": [
    "!cat suma.py"
   ]
  },
  {
   "cell_type": "code",
   "execution_count": 5,
   "metadata": {
    "scrolled": true
   },
   "outputs": [
    {
     "name": "stdout",
     "output_type": "stream",
     "text": [
      "\n",
      "{'LL': [[1804475.0, 1073769640.7748113], [1704885.0, 1073797184.7496226], [1677625.0, 1073809829.1148062], [1597105.0, 1073927903.1178768], [1586760.0, 1073966860.9283893], [1570215.0, 1073998252.5462399], [1568205.0, 1074081616.4275825], [1540170.0, 1074090531.1399426], [1543520.0, 1075116310.4262815], [1504200.0, 1074704126.0150924], [1505025.0, 1082889536.3628936]], 'LH': [[2346225.0, 1073729066.0738486], [2335550.0, 1073728971.9947957], [2333425.0, 1073729000.998699], [2328845.0, 1073722213.5510799], [2328790.0, 1073729186.4971637], [2328560.0, 1073729327.2468385], [2328560.0, 1073729621.5398908], [2328560.0, 1073731613.9377049], [2328560.0, 1073735152.8503773], [2108715.0, 1073746997.847567], [2329570.0, 1073802200.2516785]], 'HL': [[2356280.0, 1073729098.5284413], [2352890.0, 1073729019.2015092], [2352135.0, 1073729041.35847], [2350735.0, 1073722112.3121519], [2350735.0, 1073729246.9347385], [2350690.0, 1073729394.2443403], [2350690.0, 1073729642.2641686], [2350690.0, 1073731452.2251366], [2350690.0, 1073734414.330419], [2146020.0, 1073744712.9971375], [2351915.0, 1073792369.6993494]], 'HH': [[2385065.0, 1073729115.3868332], [2384345.0, 1073729118.1562321], [2384250.0, 1073729102.2173823], [2384370.0, 1073722406.1555556], [2384370.0, 1073729588.9638304], [2384370.0, 1073730058.2782202], [2384370.0, 1073730618.9772574], [2384370.0, 1073735312.9204788], [2384370.0, 1073743206.373198], [2202250.0, 1073770346.8239396], [2385420.0, 1073895685.3287015]]}\n"
     ]
    },
    {
     "data": {
      "image/png": "[encoded data removed]",
      "text/plain": [
       "<Figure size 432x288 with 1 Axes>"
      ]
     },
     "metadata": {
      "needs_background": "light"
     },
     "output_type": "display_data"
    },
    {
     "data": {
      "image/png": "[encoded data removed]",
      "text/plain": [
       "<Figure size 432x288 with 1 Axes>"
      ]
     },
     "metadata": {
      "needs_background": "light"
     },
     "output_type": "display_data"
    },
    {
     "data": {
      "image/png": "[encoded data removed]",
      "text/plain": [
       "<Figure size 432x288 with 1 Axes>"
      ]
     },
     "metadata": {
      "needs_background": "light"
     },
     "output_type": "display_data"
    },
    {
     "data": {
      "image/png": "[encoded data removed]",
      "text/plain": [
       "<Figure size 432x288 with 1 Axes>"
      ]
     },
     "metadata": {
      "needs_background": "light"
     },
     "output_type": "display_data"
    }
   ],
   "source": [
    "from suma import Sumando\n",
    "try:\n",
    "    import matplotlib.pyplot as plt\n",
    "except:\n",
    "    os.system(\"pip3 install matplotlib --user\")\n",
    "    import matplotlib.pyplot as plt\n",
    "\n",
    "imagenes = 5\n",
    "resultado_total = {\"LL\" : [],\"LH\" : [],\"HL\" : [],\"HH\" : []}\n",
    "s = Sumando()\n",
    "imagen = 2\n",
    "for q_step in valores_q_step: \n",
    "    diccionario = {}\n",
    "    for tipo in tipos_cuantificacion:     \n",
    "        for banda in [\"LL\", \"LH\", \"HL\", \"HH\"]:\n",
    "            pesos = s.GetPesosSubbandas(str(tipo), str(q_step),banda,imagen)\n",
    "            MSE = 0.0\n",
    "            MSE += s.GetMSESubbanda(tipo,imagen,q_step,banda)\n",
    "            resultado_total[banda].append([pesos,MSE]) \n",
    "print(resultado_total)\n",
    "plt.figure()\n",
    "diccionario = resultado_total\n",
    "for tipo in diccionario:\n",
    "    plot = plt.plot([i[0] for i in diccionario[tipo]],[i[1] for i in diccionario[tipo]],label=tipo)\n",
    "    #plt.legend(bbox_to_anchor=(1.05, 1), loc='upper', borderaxespad=0.)\n",
    "    plt.ylabel('Error')\n",
    "    plt.xlabel('Peso')\n",
    "    plt.title(tipo)\n",
    "    plt.show()"
   ]
  },
  {
   "cell_type": "code",
   "execution_count": 6,
   "metadata": {},
   "outputs": [],
   "source": [
    "import numpy as np\n",
    "import matplotlib.pyplot as plt"
   ]
  },
  {
   "cell_type": "code",
   "execution_count": 7,
   "metadata": {},
   "outputs": [
    {
     "name": "stdout",
     "output_type": "stream",
     "text": [
      "{'LL': [[1804475.0, 1073769640.7748113], [1704885.0, 1073797184.7496226], [1677625.0, 1073809829.1148062], [1597105.0, 1073927903.1178768], [1586760.0, 1073966860.9283893], [1570215.0, 1073998252.5462399], [1568205.0, 1074081616.4275825], [1540170.0, 1074090531.1399426], [1543520.0, 1075116310.4262815], [1504200.0, 1074704126.0150924], [1505025.0, 1082889536.3628936]], 'LH': [[2346225.0, 1073729066.0738486], [2335550.0, 1073728971.9947957], [2333425.0, 1073729000.998699], [2328845.0, 1073722213.5510799], [2328790.0, 1073729186.4971637], [2328560.0, 1073729327.2468385], [2328560.0, 1073729621.5398908], [2328560.0, 1073731613.9377049], [2328560.0, 1073735152.8503773], [2108715.0, 1073746997.847567], [2329570.0, 1073802200.2516785]], 'HL': [[2356280.0, 1073729098.5284413], [2352890.0, 1073729019.2015092], [2352135.0, 1073729041.35847], [2350735.0, 1073722112.3121519], [2350735.0, 1073729246.9347385], [2350690.0, 1073729394.2443403], [2350690.0, 1073729642.2641686], [2350690.0, 1073731452.2251366], [2350690.0, 1073734414.330419], [2146020.0, 1073744712.9971375], [2351915.0, 1073792369.6993494]], 'HH': [[2385065.0, 1073729115.3868332], [2384345.0, 1073729118.1562321], [2384250.0, 1073729102.2173823], [2384370.0, 1073722406.1555556], [2384370.0, 1073729588.9638304], [2384370.0, 1073730058.2782202], [2384370.0, 1073730618.9772574], [2384370.0, 1073735312.9204788], [2384370.0, 1073743206.373198], [2202250.0, 1073770346.8239396], [2385420.0, 1073895685.3287015]]}\n"
     ]
    }
   ],
   "source": [
    "# Lists of operational RD (Rate/Distortion) points\n",
    "print(resultado_total)\n",
    "LL = resultado_total[\"LL\"]\n",
    "LH = resultado_total[\"LH\"]\n",
    "HL = resultado_total[\"HL\"]\n",
    "HH = resultado_total[\"HH\"]"
   ]
  },
  {
   "cell_type": "code",
   "execution_count": 8,
   "metadata": {},
   "outputs": [
    {
     "name": "stdout",
     "output_type": "stream",
     "text": [
      "[(0.2765737002843211, 1704885.0, 'LL'), (0.4638431835506912, 1677625.0, 'LL'), (1.4663934807574874, 1597105.0, 'LL'), (3.7658589185638207, 1586760.0, 'LL'), (1.8973477093104907, 1570215.0, 'LL'), (41.47456783216391, 1568205.0, 'LL'), (0.3179851029122048, 1540170.0, 'LL'), (-306.2027720414347, 1543520.0, 'LL'), (-10.482818188938944, 1504200.0, 'LL'), (-9921.709512486314, 1505025.0, 'LL'), (-0.008813026035139098, 2335550.0, 'LH'), (0.0136488956563613, 2333425.0, 'LH'), (-1.4819754626813413, 2328845.0, 'LH'), (126.7808378869837, 2328790.0, 'LH'), (0.6119551078132961, 2328560.0, 'LH'), (-inf, 2328560.0, 'LH'), (-inf, 2328560.0, 'LH'), (-inf, 2328560.0, 'LH'), (0.05387885642047901, 2108715.0, 'LH'), (-0.2499486274315064, 2329570.0, 'LH'), (-0.02340027494768126, 2352890.0, 'HL'), (0.02934696784872093, 2352135.0, 'HL'), (-4.949318798610142, 2350735.0, 'HL'), (-inf, 2350735.0, 'HL'), (3.2735467063056096, 2350690.0, 'HL'), (-inf, 2350690.0, 'HL'), (-inf, 2350690.0, 'HL'), (-inf, 2350690.0, 'HL'), (0.05031839897690028, 2146020.0, 'HL'), (-0.23146119241291357, 2351915.0, 'HL'), (0.003846387399567498, 2384345.0, 'HH'), (-0.16777736638721666, 2384250.0, 'HH'), (55.800515222549436, 2384370.0, 'HH'), (-inf, 2384370.0, 'HH'), (-inf, 2384370.0, 'HH'), (-inf, 2384370.0, 'HH'), (-inf, 2384370.0, 'HH'), (-inf, 2384370.0, 'HH'), (0.14902509741670034, 2202250.0, 'HH'), (-0.6842741975319883, 2385420.0, 'HH')]\n"
     ]
    },
    {
     "name": "stderr",
     "output_type": "stream",
     "text": [
      "/home/ubuntu/.local/lib/python3.6/site-packages/ipykernel_launcher.py:7: RuntimeWarning: divide by zero encountered in double_scalars\n",
      "  import sys\n"
     ]
    }
   ],
   "source": [
    "# Slopes of each pair of points\n",
    "total = []\n",
    "for sub in resultado_total:\n",
    "    slopes1 = [] \n",
    "    curve1 = resultado_total[sub]\n",
    "    for i in range(len(curve1)-1):\n",
    "        slope = (curve1[i][1]-curve1[i+1][1])/(curve1[i+1][0]-curve1[i][0])\n",
    "        slopes1.append((slope, curve1[i+1][0], sub))\n",
    "    total = total + slopes1\n",
    "print(total)"
   ]
  },
  {
   "cell_type": "code",
   "execution_count": 9,
   "metadata": {},
   "outputs": [
    {
     "name": "stdout",
     "output_type": "stream",
     "text": [
      "[(126.7808378869837, 2328790.0, 'LH'), (55.800515222549436, 2384370.0, 'HH'), (41.47456783216391, 1568205.0, 'LL'), (3.7658589185638207, 1586760.0, 'LL'), (3.2735467063056096, 2350690.0, 'HL'), (1.8973477093104907, 1570215.0, 'LL'), (1.4663934807574874, 1597105.0, 'LL'), (0.6119551078132961, 2328560.0, 'LH'), (0.4638431835506912, 1677625.0, 'LL'), (0.3179851029122048, 1540170.0, 'LL'), (0.2765737002843211, 1704885.0, 'LL'), (0.14902509741670034, 2202250.0, 'HH'), (0.05387885642047901, 2108715.0, 'LH'), (0.05031839897690028, 2146020.0, 'HL'), (0.02934696784872093, 2352135.0, 'HL'), (0.0136488956563613, 2333425.0, 'LH'), (0.003846387399567498, 2384345.0, 'HH'), (-0.008813026035139098, 2335550.0, 'LH'), (-0.02340027494768126, 2352890.0, 'HL'), (-0.16777736638721666, 2384250.0, 'HH'), (-0.23146119241291357, 2351915.0, 'HL'), (-0.2499486274315064, 2329570.0, 'LH'), (-0.6842741975319883, 2385420.0, 'HH'), (-1.4819754626813413, 2328845.0, 'LH'), (-4.949318798610142, 2350735.0, 'HL'), (-10.482818188938944, 1504200.0, 'LL'), (-306.2027720414347, 1543520.0, 'LL'), (-9921.709512486314, 1505025.0, 'LL'), (-inf, 2384370.0, 'HH'), (-inf, 2384370.0, 'HH'), (-inf, 2384370.0, 'HH'), (-inf, 2384370.0, 'HH'), (-inf, 2384370.0, 'HH'), (-inf, 2350690.0, 'HL'), (-inf, 2350690.0, 'HL'), (-inf, 2350690.0, 'HL'), (-inf, 2350735.0, 'HL'), (-inf, 2328560.0, 'LH'), (-inf, 2328560.0, 'LH'), (-inf, 2328560.0, 'LH')]\n"
     ]
    }
   ],
   "source": [
    "sorted_lists = sorted(total, key=lambda tup: tup[0])[::-1]\n",
    "print(sorted_lists)"
   ]
  },
  {
   "cell_type": "code",
   "execution_count": 10,
   "metadata": {},
   "outputs": [
    {
     "name": "stdout",
     "output_type": "stream",
     "text": [
      "Optimal RD points = [(126.7808378869837, 2328790.0, 'LH'), (55.800515222549436, 2384370.0, 'HH'), (41.47456783216391, 1568205.0, 'LL'), (3.7658589185638207, 1586760.0, 'LL'), (3.2735467063056096, 2350690.0, 'HL'), (1.8973477093104907, 1570215.0, 'LL'), (1.4663934807574874, 1597105.0, 'LL'), (0.6119551078132961, 2328560.0, 'LH')]\n",
      "bit-rate = 15714695.0\n"
     ]
    }
   ],
   "source": [
    "R = 15908500 # Bit budget\n",
    "spent = 0\n",
    "i = 0\n",
    "optimal = []\n",
    "while True:\n",
    "    spent += sorted_lists[i][1]\n",
    "    if spent < R:\n",
    "        optimal.append(sorted_lists[i])\n",
    "    else:\n",
    "        break\n",
    "    i += 1\n",
    "print(\"Optimal RD points =\", optimal)\n",
    "br = sum([i[1] for i in optimal])\n",
    "print(\"bit-rate =\", br)"
   ]
  },
  {
   "cell_type": "code",
   "execution_count": null,
   "metadata": {},
   "outputs": [],
   "source": []
  }
 ],
 "metadata": {
  "kernelspec": {
   "display_name": "Python 3",
   "language": "python",
   "name": "python3"
  },
  "language_info": {
   "codemirror_mode": {
    "name": "ipython",
    "version": 3
   },
   "file_extension": ".py",
   "mimetype": "text/x-python",
   "name": "python",
   "nbconvert_exporter": "python",
   "pygments_lexer": "ipython3",
   "version": "3.6.9"
  }
 },
 "nbformat": 4,
 "nbformat_minor": 4
}
