{
 "cells": [
  {
   "cell_type": "markdown",
   "metadata": {},
   "source": [
    "# Sistemas Multimedia"
   ]
  },
  {
   "cell_type": "code",
   "execution_count": 1,
   "metadata": {},
   "outputs": [],
   "source": [
    "!sudo rm -r /tmp/*"
   ]
  },
  {
   "cell_type": "markdown",
   "metadata": {},
   "source": [
    "## Comparing quantizer in subbands"
   ]
  },
  {
   "cell_type": "markdown",
   "metadata": {},
   "source": [
    "### Global Configuration"
   ]
  },
  {
   "cell_type": "code",
   "execution_count": 2,
   "metadata": {},
   "outputs": [],
   "source": [
    "bandas = [\"LL\",\"LH\",\"HL\",\"HH\"]\n",
    "imagen =\"{:03d}\".format(3)\n",
    "valores_q_step = [8,16,20,55,60,80,100,200,300,512,1028] \n",
    "tipos_cuantificacion = [\"deadzone\"]"
   ]
  },
  {
   "cell_type": "code",
   "execution_count": 3,
   "metadata": {},
   "outputs": [
    {
     "name": "stdout",
     "output_type": "stream",
     "text": [
      "003.png  HH003.png  HL003.png  LH003.png  LL003.png\n",
      "Step : 8\n",
      "Banda : LL\n",
      "cp: -r not specified; omitting directory '/tmp/8/midthreat/LL/inversas'\n",
      "Banda : LH\n",
      "cp: -r not specified; omitting directory '/tmp/8/midthreat/LH/inversas'\n",
      "Banda : HL\n",
      "cp: -r not specified; omitting directory '/tmp/8/midthreat/HL/inversas'\n",
      "Banda : HH\n",
      "cp: -r not specified; omitting directory '/tmp/8/midthreat/HH/inversas'\n",
      "003.png  HH003.png  HL003.png  LH003.png  LL003.png\n",
      "Step : 16\n",
      "Banda : LL\n",
      "cp: -r not specified; omitting directory '/tmp/16/midthreat/LL/inversas'\n",
      "Banda : LH\n",
      "cp: -r not specified; omitting directory '/tmp/16/midthreat/LH/inversas'\n",
      "Banda : HL\n",
      "cp: -r not specified; omitting directory '/tmp/16/midthreat/HL/inversas'\n",
      "Banda : HH\n",
      "cp: -r not specified; omitting directory '/tmp/16/midthreat/HH/inversas'\n",
      "003.png  HH003.png  HL003.png  LH003.png  LL003.png\n",
      "Step : 20\n",
      "Banda : LL\n",
      "cp: -r not specified; omitting directory '/tmp/20/midthreat/LL/inversas'\n",
      "Banda : LH\n",
      "cp: -r not specified; omitting directory '/tmp/20/midthreat/LH/inversas'\n",
      "Banda : HL\n",
      "cp: -r not specified; omitting directory '/tmp/20/midthreat/HL/inversas'\n",
      "Banda : HH\n",
      "cp: -r not specified; omitting directory '/tmp/20/midthreat/HH/inversas'\n",
      "003.png  HH003.png  HL003.png  LH003.png  LL003.png\n",
      "Step : 55\n",
      "Banda : LL\n",
      "cp: -r not specified; omitting directory '/tmp/55/midthreat/LL/inversas'\n",
      "Banda : LH\n",
      "cp: -r not specified; omitting directory '/tmp/55/midthreat/LH/inversas'\n",
      "Banda : HL\n",
      "cp: -r not specified; omitting directory '/tmp/55/midthreat/HL/inversas'\n",
      "Banda : HH\n",
      "cp: -r not specified; omitting directory '/tmp/55/midthreat/HH/inversas'\n",
      "003.png  HH003.png  HL003.png  LH003.png  LL003.png\n",
      "Step : 60\n",
      "Banda : LL\n",
      "cp: -r not specified; omitting directory '/tmp/60/midthreat/LL/inversas'\n",
      "Banda : LH\n",
      "cp: -r not specified; omitting directory '/tmp/60/midthreat/LH/inversas'\n",
      "Banda : HL\n",
      "cp: -r not specified; omitting directory '/tmp/60/midthreat/HL/inversas'\n",
      "Banda : HH\n",
      "cp: -r not specified; omitting directory '/tmp/60/midthreat/HH/inversas'\n",
      "003.png  HH003.png  HL003.png  LH003.png  LL003.png\n",
      "Step : 80\n",
      "Banda : LL\n",
      "cp: -r not specified; omitting directory '/tmp/80/midthreat/LL/inversas'\n",
      "Banda : LH\n",
      "cp: -r not specified; omitting directory '/tmp/80/midthreat/LH/inversas'\n",
      "Banda : HL\n",
      "cp: -r not specified; omitting directory '/tmp/80/midthreat/HL/inversas'\n",
      "Banda : HH\n",
      "cp: -r not specified; omitting directory '/tmp/80/midthreat/HH/inversas'\n",
      "003.png  HH003.png  HL003.png  LH003.png  LL003.png\n",
      "Step : 100\n",
      "Banda : LL\n",
      "cp: -r not specified; omitting directory '/tmp/100/midthreat/LL/inversas'\n",
      "Banda : LH\n",
      "cp: -r not specified; omitting directory '/tmp/100/midthreat/LH/inversas'\n",
      "Banda : HL\n",
      "cp: -r not specified; omitting directory '/tmp/100/midthreat/HL/inversas'\n",
      "Banda : HH\n",
      "cp: -r not specified; omitting directory '/tmp/100/midthreat/HH/inversas'\n",
      "003.png  HH003.png  HL003.png  LH003.png  LL003.png\n",
      "Step : 200\n",
      "Banda : LL\n",
      "cp: -r not specified; omitting directory '/tmp/200/midthreat/LL/inversas'\n",
      "Banda : LH\n",
      "cp: -r not specified; omitting directory '/tmp/200/midthreat/LH/inversas'\n",
      "Banda : HL\n",
      "cp: -r not specified; omitting directory '/tmp/200/midthreat/HL/inversas'\n",
      "Banda : HH\n",
      "cp: -r not specified; omitting directory '/tmp/200/midthreat/HH/inversas'\n",
      "003.png  HH003.png  HL003.png  LH003.png  LL003.png\n",
      "Step : 300\n",
      "Banda : LL\n",
      "cp: -r not specified; omitting directory '/tmp/300/midthreat/LL/inversas'\n",
      "Banda : LH\n",
      "cp: -r not specified; omitting directory '/tmp/300/midthreat/LH/inversas'\n",
      "Banda : HL\n",
      "cp: -r not specified; omitting directory '/tmp/300/midthreat/HL/inversas'\n",
      "Banda : HH\n",
      "cp: -r not specified; omitting directory '/tmp/300/midthreat/HH/inversas'\n",
      "003.png  HH003.png  HL003.png  LH003.png  LL003.png\n",
      "Step : 512\n",
      "Banda : LL\n",
      "cp: -r not specified; omitting directory '/tmp/512/midthreat/LL/inversas'\n",
      "Banda : LH\n",
      "cp: -r not specified; omitting directory '/tmp/512/midthreat/LH/inversas'\n",
      "Banda : HL\n",
      "cp: -r not specified; omitting directory '/tmp/512/midthreat/HL/inversas'\n",
      "Banda : HH\n",
      "cp: -r not specified; omitting directory '/tmp/512/midthreat/HH/inversas'\n",
      "003.png  HH003.png  HL003.png  LH003.png  LL003.png\n",
      "Step : 1028\n",
      "Banda : LL\n",
      "cp: -r not specified; omitting directory '/tmp/1028/midthreat/LL/inversas'\n",
      "Banda : LH\n",
      "cp: -r not specified; omitting directory '/tmp/1028/midthreat/LH/inversas'\n",
      "Banda : HL\n",
      "cp: -r not specified; omitting directory '/tmp/1028/midthreat/HL/inversas'\n",
      "Banda : HH\n",
      "cp: -r not specified; omitting directory '/tmp/1028/midthreat/HH/inversas'\n"
     ]
    }
   ],
   "source": [
    "q_step=32  \n",
    "predictor=2  \n",
    "\n",
    "for q_step in valores_q_step:\n",
    "    !mkdir /tmp/{q_step} && mkdir /tmp/{q_step}/original  &&  cp sequences/stockholm/{imagen}.png /tmp/{q_step}/original/   \n",
    "    !mkdir /tmp/{q_step}/dwt  && cp /tmp/{q_step}/original/* /tmp/{q_step}/dwt/  \n",
    "    !cd src/ && python3 -O DWT.py -p /tmp/{q_step}/dwt/ -i {imagen}\n",
    "    !ls /tmp/{q_step}/dwt/\n",
    "    for tipo in tipos_cuantificacion:\n",
    "        !mkdir /tmp/{q_step}/{tipo} \n",
    "        print(\"Step : \"+str(q_step))\n",
    "        for banda in bandas: \n",
    "            print(\"Banda : \"+str(banda))\n",
    "            !mkdir /tmp/{q_step}/{tipo}/{banda}\n",
    "            !cp /tmp/{q_step}/dwt/*.png /tmp/{q_step}/{tipo}/{banda}\n",
    "            !rm -r /tmp/{q_step}/{tipo}/{banda}/{banda}{imagen}.png\n",
    "            !python3 tools/quantize.py -t {tipo} -i /tmp/{q_step}/dwt/{banda}{imagen}.png -o /tmp/{q_step}/{tipo}/{banda}/{banda}{imagen}.png -q {q_step}  \n",
    "            !mkdir /tmp/{q_step}/{tipo}/{banda}/inversas  &&  cp /tmp/{q_step}/{tipo}/{banda}/* /tmp/{q_step}/{tipo}/{banda}/inversas  \n",
    "            !cd src/ && python3 -O DWT.py -p /tmp/{q_step}/{tipo}/{banda}/inversas/ -b  -i {imagen}"
   ]
  },
  {
   "cell_type": "code",
   "execution_count": 4,
   "metadata": {},
   "outputs": [
    {
     "name": "stdout",
     "output_type": "stream",
     "text": [
      "import os\r",
      "\r\n",
      "import sys\r",
      "\r\n",
      "import math\r",
      "\r\n",
      "try:\r",
      "\r\n",
      "    import cv2\r",
      "\r\n",
      "except:\r",
      "\r\n",
      "    os.system(\"pip3 install opencv-python --user\")\r",
      "\r\n",
      "try:\r",
      "\r\n",
      "    import numpy as np\r",
      "\r\n",
      "except:\r",
      "\r\n",
      "    os.system(\"pip3 install numpy --user\")\r",
      "\r\n",
      "\r",
      "\r\n",
      "import argparse\r",
      "\r\n",
      "\r",
      "\r\n",
      "try:\r",
      "\r\n",
      "    import skimage.metrics\r",
      "\r\n",
      "except:\r",
      "\r\n",
      "    os.system(\"pip3 install scikit-image --user\")\r",
      "\r\n",
      "\r",
      "\r\n",
      "try:\r",
      "\r\n",
      "    import scipy\r",
      "\r\n",
      "    from scipy import stats\r",
      "\r\n",
      "except:\r",
      "\r\n",
      "    os.system(\"pip3 install scipy --user\")\r",
      "\r\n",
      "\r",
      "\r\n",
      "class Sumando():\r",
      "\r\n",
      "    def __init__(self):\r",
      "\r\n",
      "        print(\"\")       \r",
      "\r\n",
      "    def calcularMSE(self,original,cuantificada):\r",
      "\r\n",
      "        x = cv2.imread(original, -1)\r",
      "\r\n",
      "        y = cv2.imread(cuantificada, -1)\r",
      "\r\n",
      "        MSE = skimage.metrics.mean_squared_error(x, y)\r",
      "\r\n",
      "        return MSE\r",
      "\r\n",
      "    def GetPesos(self,cuantificador, q):\r",
      "\r\n",
      "        path = \"/tmp/\"+str(q)+\"/\"+str(cuantificador) + \"/\"\r",
      "\r\n",
      "        tamanoTotalNuevo = 0.0\r",
      "\r\n",
      "        for i in range(5):\r",
      "\r\n",
      "            path_archivo_reducido = os.path.join(path,\"LL{:03d}\".format(i)+\".png\")\r",
      "\r\n",
      "            tamanoTotalNuevo += os.stat(path_archivo_reducido).st_size\r",
      "\r\n",
      "            path_archivo_reducido = os.path.join(path,\"LH{:03d}\".format(i)+\".png\")\r",
      "\r\n",
      "            tamanoTotalNuevo += os.stat(path_archivo_reducido).st_size\r",
      "\r\n",
      "            path_archivo_reducido = os.path.join(path,\"HL{:03d}\".format(i)+\".png\")\r",
      "\r\n",
      "            tamanoTotalNuevo += os.stat(path_archivo_reducido).st_size\r",
      "\r\n",
      "            path_archivo_reducido = os.path.join(path,\"HH{:03d}\".format(i)+\".png\")\r",
      "\r\n",
      "            tamanoTotalNuevo += os.stat(path_archivo_reducido).st_size\r",
      "\r\n",
      "        return tamanoTotalNuevo\r",
      "\r\n",
      "    def GetPesosSubbandas(self,cuantificador, q,banda,imagen):\r",
      "\r\n",
      "        path = \"/tmp/\"+str(q)+\"/\"+cuantificador+\"/\"+banda+\"/\"\t\r",
      "\r\n",
      "        tamanoTotalNuevo = 0.0        \r",
      "\r\n",
      "        path_archivo_reducido = os.path.join(path,\"LL{:03d}\".format(imagen)+\".png\")\r",
      "\r\n",
      "        tamanoTotalNuevo += os.stat(path_archivo_reducido).st_size\r",
      "\r\n",
      "        path_archivo_reducido = os.path.join(path,\"LH{:03d}\".format(imagen)+\".png\")\r",
      "\r\n",
      "        tamanoTotalNuevo += os.stat(path_archivo_reducido).st_size\r",
      "\r\n",
      "        path_archivo_reducido = os.path.join(path,\"HL{:03d}\".format(imagen)+\".png\")\r",
      "\r\n",
      "        tamanoTotalNuevo += os.stat(path_archivo_reducido).st_size\r",
      "\r\n",
      "        path_archivo_reducido = os.path.join(path,\"HH{:03d}\".format(imagen)+\".png\")\r",
      "\r\n",
      "        tamanoTotalNuevo += os.stat(path_archivo_reducido).st_size\r",
      "\r\n",
      "        return tamanoTotalNuevo\r",
      "\r\n",
      "    def GetMSE(self,cuantificador,imagen,q):\r",
      "\r\n",
      "        cuantizada = \"/tmp/\"+str(q)+\"/\"+cuantificador+\"/inversas/\"+\"{:03d}\".format(imagen)+\".png\"\r",
      "\r\n",
      "        original = \"/tmp/\"+str(q)+\"/original/\"+\"{:03d}\".format(imagen)+\".png\"\r",
      "\r\n",
      "        x = cv2.imread(original, -1)\r",
      "\r\n",
      "        y = cv2.imread(cuantizada, -1)\r",
      "\r\n",
      "        MSE = skimage.metrics.mean_squared_error(x, y)\r",
      "\r\n",
      "        return MSE\r",
      "\r\n",
      "    def GetMSESubbanda(self,cuantificador,imagen,q,banda):\r",
      "\r\n",
      "        cuantizada = \"/tmp/\"+str(q)+\"/\"+cuantificador+\"/\"+banda+\"/inversas/\"+\"{:03d}\".format(imagen)+\".png\"\r",
      "\r\n",
      "        original = \"/tmp/\"+str(q)+\"/original/\"+\"{:03d}\".format(imagen)+\".png\"\r",
      "\r\n",
      "        x = cv2.imread(original, -1)\r",
      "\r\n",
      "        y = cv2.imread(cuantizada, -1)\r",
      "\r\n",
      "        MSE = skimage.metrics.mean_squared_error(x, y)\r",
      "\r\n",
      "        return MSE\r",
      "\r\n",
      "    def AddSizes(path = \"/tmp/\", N = 5):\r",
      "\r\n",
      "        tamanoTotal = 0.0\r",
      "\r\n",
      "        tamanoTotalNuevo = 0.0 \r",
      "\r\n",
      "        for i in range(N):            \r",
      "\r\n",
      "            path_archivo_normal = os.path.join(path,\"{:03d}\".format(i)+\".png\")\r",
      "\r\n",
      "            path_archivo_reducido = os.path.join(path,\"LL{:03d}\".format(i)+\".png\")\r",
      "\r\n",
      "            tamanoTotalNuevo += os.stat(path_archivo_reducido).st_size\r",
      "\r\n",
      "            path_archivo_reducido = os.path.join(path,\"LH{:03d}\".format(i)+\".png\")\r",
      "\r\n",
      "            tamanoTotalNuevo += os.stat(path_archivo_reducido).st_size\r",
      "\r\n",
      "            path_archivo_reducido = os.path.join(path,\"HL{:03d}\".format(i)+\".png\")\r",
      "\r\n",
      "            tamanoTotalNuevo += os.stat(path_archivo_reducido).st_size\r",
      "\r\n",
      "            path_archivo_reducido = os.path.join(path,\"HH{:03d}\".format(i)+\".png\")\r",
      "\r\n",
      "            tamanoTotal += os.stat(path_archivo_normal).st_size\r",
      "\r\n",
      "            tamanoTotalNuevo += os.stat(path_archivo_reducido).st_size\r",
      "\r\n",
      "        \"\"\"\r",
      "\r\n",
      "    if __name__ ==\"__main__\":\r",
      "\r\n",
      "            if len(sys.argv) < 2:\r",
      "\r\n",
      "                AddSizes()\r",
      "\r\n",
      "            elif len(sys.argv) == 2:\r",
      "\r\n",
      "                AddSizes(N=int(sys.argv[1]))            \r",
      "\r\n",
      "            else:\r",
      "\r\n",
      "                AddSizes(sys.argv[1],int(sys.argv[2]))\r",
      "\r\n",
      "                \"\"\"\r",
      "\r\n"
     ]
    }
   ],
   "source": [
    "!cat suma.py"
   ]
  },
  {
   "cell_type": "markdown",
   "metadata": {},
   "source": [
    "### Plotting BR/Error"
   ]
  },
  {
   "cell_type": "code",
   "execution_count": 5,
   "metadata": {
    "scrolled": true
   },
   "outputs": [
    {
     "name": "stdout",
     "output_type": "stream",
     "text": [
      "\n",
      "{'LL': [[2461335.0, 1.43948974609375], [2356601.0, 2.947249348958333], [2339260.0, 4.03821275499132], [2194673.0, 26.57816399468316], [2184856.0, 32.882792154947914], [2142562.0, 60.0778313530816], [2125110.0, 103.08858405219183], [2067110.0, 578.3997165256077], [2051333.0, 1420.8663950602213], [1966511.0, 3594.18185289171], [1936317.0, 9961.250745646159]], 'LH': [[2407895.0, 2.513849894205729], [2223849.0, 5.860575358072917], [2172308.0, 7.614360555013021], [2052625.0, 18.69290805392795], [2048757.0, 20.031570434570312], [2041306.0, 24.928738403320313], [2040133.0, 28.82476806640625], [2035866.0, 32.089169311523435], [2035716.0, 32.35353563096788], [2035716.0, 32.35353563096788], [2035716.0, 32.35353563096788]], 'HL': [[2364408.0, 2.5290045844184026], [2148613.0, 5.491336398654514], [2103867.0, 6.60262213812934], [2042180.0, 11.673175387912327], [2041114.0, 12.029171074761285], [2039423.0, 12.909268866644965], [2038661.0, 13.384213256835938], [2038132.0, 13.578203667534723], [2038132.0, 13.578203667534723], [2038132.0, 13.578203667534723], [2038132.0, 13.578203667534723]], 'HH': [[2270976.0, 3.3924485948350696], [2246117.0, 3.7063557942708334], [2245332.0, 3.7357906765407987], [2244582.0, 3.7880147298177085], [2244571.0, 3.788563707139757], [2244571.0, 3.788563707139757], [2244571.0, 3.788563707139757], [2244571.0, 3.788563707139757], [2244571.0, 3.788563707139757], [2244571.0, 3.788563707139757], [2244571.0, 3.788563707139757]]}\n"
     ]
    },
    {
     "data": {
      "image/png": "[encoded data removed]",
      "text/plain": [
       "<Figure size 432x288 with 1 Axes>"
      ]
     },
     "metadata": {
      "needs_background": "light"
     },
     "output_type": "display_data"
    },
    {
     "data": {
      "image/png": "[encoded data removed]",
      "text/plain": [
       "<Figure size 432x288 with 1 Axes>"
      ]
     },
     "metadata": {
      "needs_background": "light"
     },
     "output_type": "display_data"
    },
    {
     "data": {
      "image/png": "[encoded data removed]",
      "text/plain": [
       "<Figure size 432x288 with 1 Axes>"
      ]
     },
     "metadata": {
      "needs_background": "light"
     },
     "output_type": "display_data"
    },
    {
     "data": {
      "image/png": "[encoded data removed]",
      "text/plain": [
       "<Figure size 432x288 with 1 Axes>"
      ]
     },
     "metadata": {
      "needs_background": "light"
     },
     "output_type": "display_data"
    },
    {
     "data": {
      "image/png": "[encoded data removed]",
      "text/plain": [
       "<Figure size 432x288 with 1 Axes>"
      ]
     },
     "metadata": {
      "needs_background": "light"
     },
     "output_type": "display_data"
    }
   ],
   "source": [
    "from suma import Sumando\n",
    "try:\n",
    "    import matplotlib.pyplot as plt\n",
    "except:\n",
    "    os.system(\"pip3 install matplotlib --user\")\n",
    "    import matplotlib.pyplot as plt\n",
    "\n",
    "imagenes = 5\n",
    "resultado_total = {\"LL\" : [],\"LH\" : [],\"HL\" : [],\"HH\" : []}\n",
    "s = Sumando()\n",
    "imagen = 3\n",
    "for q_step in valores_q_step: \n",
    "    diccionario = {}\n",
    "    for tipo in tipos_cuantificacion:     \n",
    "        for banda in [\"LL\", \"LH\", \"HL\", \"HH\"]:\n",
    "            pesos = s.GetPesosSubbandas(str(tipo), str(q_step),banda,imagen)\n",
    "            MSE = 0.0\n",
    "            MSE += s.GetMSESubbanda(tipo,imagen,q_step,banda)\n",
    "            resultado_total[banda].append([pesos,MSE]) \n",
    "print(resultado_total)\n",
    "plt.figure()\n",
    "diccionario = resultado_total\n",
    "\n",
    "C = 4\n",
    "\n",
    "curve = [None]*C\n",
    "curve[0] = resultado_total[\"LL\"]\n",
    "curve[1] = resultado_total[\"LH\"]\n",
    "curve[2] = resultado_total[\"HL\"]\n",
    "curve[3] = resultado_total[\"HH\"]\n",
    "\n",
    "for c in range(4):\n",
    "    plt.scatter(*zip(*curve[c]))\n",
    "plt.show()\n",
    "\n",
    "for tipo in diccionario:\n",
    "    plot = plt.plot([i[0] for i in diccionario[tipo]],[i[1] for i in diccionario[tipo]],label=tipo)\n",
    "    #plt.legend(bbox_to_anchor=(1.05, 1), loc='upper', borderaxespad=0.)\n",
    "    plt.ylabel('Error')\n",
    "    plt.xlabel('Peso')\n",
    "    plt.title(tipo)\n",
    "    plt.show()\n",
    "    "
   ]
  },
  {
   "cell_type": "code",
   "execution_count": 6,
   "metadata": {},
   "outputs": [],
   "source": [
    "import numpy as np\n",
    "import matplotlib.pyplot as plt"
   ]
  },
  {
   "cell_type": "code",
   "execution_count": 7,
   "metadata": {},
   "outputs": [
    {
     "name": "stdout",
     "output_type": "stream",
     "text": [
      "{'LL': [[2461335.0, 1.43948974609375], [2356601.0, 2.947249348958333], [2339260.0, 4.03821275499132], [2194673.0, 26.57816399468316], [2184856.0, 32.882792154947914], [2142562.0, 60.0778313530816], [2125110.0, 103.08858405219183], [2067110.0, 578.3997165256077], [2051333.0, 1420.8663950602213], [1966511.0, 3594.18185289171], [1936317.0, 9961.250745646159]], 'LH': [[2407895.0, 2.513849894205729], [2223849.0, 5.860575358072917], [2172308.0, 7.614360555013021], [2052625.0, 18.69290805392795], [2048757.0, 20.031570434570312], [2041306.0, 24.928738403320313], [2040133.0, 28.82476806640625], [2035866.0, 32.089169311523435], [2035716.0, 32.35353563096788], [2035716.0, 32.35353563096788], [2035716.0, 32.35353563096788]], 'HL': [[2364408.0, 2.5290045844184026], [2148613.0, 5.491336398654514], [2103867.0, 6.60262213812934], [2042180.0, 11.673175387912327], [2041114.0, 12.029171074761285], [2039423.0, 12.909268866644965], [2038661.0, 13.384213256835938], [2038132.0, 13.578203667534723], [2038132.0, 13.578203667534723], [2038132.0, 13.578203667534723], [2038132.0, 13.578203667534723]], 'HH': [[2270976.0, 3.3924485948350696], [2246117.0, 3.7063557942708334], [2245332.0, 3.7357906765407987], [2244582.0, 3.7880147298177085], [2244571.0, 3.788563707139757], [2244571.0, 3.788563707139757], [2244571.0, 3.788563707139757], [2244571.0, 3.788563707139757], [2244571.0, 3.788563707139757], [2244571.0, 3.788563707139757], [2244571.0, 3.788563707139757]]}\n"
     ]
    }
   ],
   "source": [
    "# Lists of operational RD (Rate/Distortion) points\n",
    "print(resultado_total)\n",
    "LL = resultado_total[\"LL\"]\n",
    "LH = resultado_total[\"LH\"]\n",
    "HL = resultado_total[\"HL\"]\n",
    "HH = resultado_total[\"HH\"]"
   ]
  },
  {
   "cell_type": "code",
   "execution_count": 8,
   "metadata": {},
   "outputs": [
    {
     "name": "stdout",
     "output_type": "stream",
     "text": [
      "[(1.439608534825924e-05, 2356601.0, 'LL'), (6.291236987676528e-05, 2339260.0, 'LL'), (0.00015589196289909768, 2194673.0, 'LL'), (0.000642215357060686, 2184856.0, 'LL'), (0.0006429999337526288, 2142562.0, 'LL'), (0.002464517115465863, 2125110.0, 'LL'), (0.008195019525403722, 2067110.0, 'LL'), (0.053398407715954464, 2051333.0, 'LL'), (0.025622072785733523, 1966511.0, 'LL'), (0.2108719908840978, 1936317.0, 'LL'), (1.8184179302278714e-05, 2223849.0, 'LH'), (3.402699204400582e-05, 2172308.0, 'LH'), (9.25657570324518e-05, 2052625.0, 'LH'), (0.00034608644794269943, 2048757.0, 'LH'), (0.0006572497609381292, 2041306.0, 'LH'), (0.0033214234126904833, 2040133.0, 'LH'), (0.0007650342735217213, 2035866.0, 'LH'), (0.001762442129629657, 2035716.0, 'LH'), (nan, 2035716.0, 'LH'), (nan, 2035716.0, 'LH'), (1.3727527580509798e-05, 2148613.0, 'HL'), (2.4835420808001294e-05, 2103867.0, 'HL'), (8.219808468207217e-05, 2042180.0, 'HL'), (0.0003339546780947075, 2041114.0, 'HL'), (0.0005204599597183204, 2039423.0, 'HL'), (0.0006232866013004902, 2038661.0, 'HL'), (0.0003667115514154719, 2038132.0, 'HL'), (nan, 2038132.0, 'HL'), (nan, 2038132.0, 'HL'), (nan, 2038132.0, 'HL'), (1.2627507117573668e-05, 2246117.0, 'HH'), (3.7496665312057665e-05, 2245332.0, 'HH'), (6.963207103587976e-05, 2244582.0, 'HH'), (4.9907029277126725e-05, 2244571.0, 'HH'), (nan, 2244571.0, 'HH'), (nan, 2244571.0, 'HH'), (nan, 2244571.0, 'HH'), (nan, 2244571.0, 'HH'), (nan, 2244571.0, 'HH'), (nan, 2244571.0, 'HH')]\n"
     ]
    },
    {
     "name": "stderr",
     "output_type": "stream",
     "text": [
      "/home/ubuntu/.local/lib/python3.6/site-packages/ipykernel_launcher.py:7: RuntimeWarning: invalid value encountered in double_scalars\n",
      "  import sys\n"
     ]
    }
   ],
   "source": [
    "# Slopes of each pair of points\n",
    "total = []\n",
    "for sub in resultado_total:\n",
    "    slopes1 = [] \n",
    "    curve1 = resultado_total[sub]\n",
    "    for i in range(len(curve1)-1):\n",
    "        slope = (curve1[i][1]-curve1[i+1][1])/(curve1[i+1][0]-curve1[i][0])\n",
    "        slopes1.append((slope, curve1[i+1][0], sub))\n",
    "    total = total + slopes1\n",
    "print(total)"
   ]
  },
  {
   "cell_type": "code",
   "execution_count": 9,
   "metadata": {},
   "outputs": [
    {
     "name": "stdout",
     "output_type": "stream",
     "text": [
      "[(nan, 2244571.0, 'HH'), (nan, 2244571.0, 'HH'), (nan, 2244571.0, 'HH'), (nan, 2244571.0, 'HH'), (nan, 2244571.0, 'HH'), (nan, 2244571.0, 'HH'), (nan, 2038132.0, 'HL'), (nan, 2038132.0, 'HL'), (nan, 2038132.0, 'HL'), (nan, 2035716.0, 'LH'), (nan, 2035716.0, 'LH'), (0.2108719908840978, 1936317.0, 'LL'), (0.053398407715954464, 2051333.0, 'LL'), (0.025622072785733523, 1966511.0, 'LL'), (0.008195019525403722, 2067110.0, 'LL'), (0.0033214234126904833, 2040133.0, 'LH'), (0.002464517115465863, 2125110.0, 'LL'), (0.001762442129629657, 2035716.0, 'LH'), (0.0007650342735217213, 2035866.0, 'LH'), (0.0006572497609381292, 2041306.0, 'LH'), (0.0006429999337526288, 2142562.0, 'LL'), (0.000642215357060686, 2184856.0, 'LL'), (0.0006232866013004902, 2038661.0, 'HL'), (0.0005204599597183204, 2039423.0, 'HL'), (0.0003667115514154719, 2038132.0, 'HL'), (0.00034608644794269943, 2048757.0, 'LH'), (0.0003339546780947075, 2041114.0, 'HL'), (0.00015589196289909768, 2194673.0, 'LL'), (9.25657570324518e-05, 2052625.0, 'LH'), (8.219808468207217e-05, 2042180.0, 'HL'), (6.963207103587976e-05, 2244582.0, 'HH'), (6.291236987676528e-05, 2339260.0, 'LL'), (4.9907029277126725e-05, 2244571.0, 'HH'), (3.7496665312057665e-05, 2245332.0, 'HH'), (3.402699204400582e-05, 2172308.0, 'LH'), (2.4835420808001294e-05, 2103867.0, 'HL'), (1.8184179302278714e-05, 2223849.0, 'LH'), (1.439608534825924e-05, 2356601.0, 'LL'), (1.3727527580509798e-05, 2148613.0, 'HL'), (1.2627507117573668e-05, 2246117.0, 'HH')]\n"
     ]
    }
   ],
   "source": [
    "sorted_lists = sorted(total, key=lambda tup: tup[0])[::-1]\n",
    "print(sorted_lists)"
   ]
  },
  {
   "cell_type": "markdown",
   "metadata": {},
   "source": [
    "### Optimal RD Points"
   ]
  },
  {
   "cell_type": "code",
   "execution_count": 10,
   "metadata": {},
   "outputs": [
    {
     "name": "stdout",
     "output_type": "stream",
     "text": [
      "Optimal RD points = [(nan, 2244571.0, 'HH'), (nan, 2244571.0, 'HH'), (nan, 2244571.0, 'HH'), (nan, 2244571.0, 'HH'), (nan, 2244571.0, 'HH'), (nan, 2244571.0, 'HH'), (nan, 2038132.0, 'HL'), (nan, 2038132.0, 'HL'), (nan, 2038132.0, 'HL'), (nan, 2035716.0, 'LH'), (nan, 2035716.0, 'LH'), (0.2108719908840978, 1936317.0, 'LL'), (0.053398407715954464, 2051333.0, 'LL'), (0.025622072785733523, 1966511.0, 'LL'), (0.008195019525403722, 2067110.0, 'LL'), (0.0033214234126904833, 2040133.0, 'LH'), (0.002464517115465863, 2125110.0, 'LL'), (0.001762442129629657, 2035716.0, 'LH'), (0.0007650342735217213, 2035866.0, 'LH')]\n",
      "bit-rate = 39911350.0\n"
     ]
    }
   ],
   "source": [
    "R = 40099800# Bit budget\n",
    "spent = 0\n",
    "i = 0\n",
    "optimal = []\n",
    "while True:\n",
    "    spent += sorted_lists[i][1]\n",
    "    if spent < R:\n",
    "        optimal.append(sorted_lists[i])\n",
    "    else:\n",
    "        break\n",
    "    i += 1\n",
    "print(\"Optimal RD points =\", optimal)\n",
    "br = sum([i[1] for i in optimal])\n",
    "print(\"bit-rate =\", br)"
   ]
  },
  {
   "cell_type": "code",
   "execution_count": null,
   "metadata": {},
   "outputs": [],
   "source": []
  }
 ],
 "metadata": {
  "kernelspec": {
   "display_name": "Python 3",
   "language": "python",
   "name": "python3"
  },
  "language_info": {
   "codemirror_mode": {
    "name": "ipython",
    "version": 3
   },
   "file_extension": ".py",
   "mimetype": "text/x-python",
   "name": "python",
   "nbconvert_exporter": "python",
   "pygments_lexer": "ipython3",
   "version": "3.6.9"
  }
 },
 "nbformat": 4,
 "nbformat_minor": 4
}
